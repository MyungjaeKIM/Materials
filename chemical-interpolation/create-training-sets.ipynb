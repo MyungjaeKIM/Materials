{
 "cells": [
  {
   "cell_type": "markdown",
   "metadata": {},
   "source": [
    "# Create Training Sets for Chemical Interpolation Test\n",
    "The goal of this test is to determine whether machine learning models are able to infer the interactions between elements that are not included in the training set. Specifically, we will exclude a single quaternary from the OQMD dataset, train a model on the remaining data, and then evalaute the performance of that model on the excluded ternary. In this notebook, we identify which ternaries could be the most interesting to study, and output their data in a format compatible with Magpie."
   ]
  },
  {
   "cell_type": "code",
   "execution_count": 1,
   "metadata": {
    "collapsed": true
   },
   "outputs": [],
   "source": [
    "%matplotlib inline\n",
    "from matplotlib import pyplot as plt\n",
    "from pymatgen import Composition\n",
    "from itertools import product\n",
    "import pandas as pd\n",
    "import os\n",
    "import shutil"
   ]
  },
  {
   "cell_type": "markdown",
   "metadata": {},
   "source": [
    "## Read in the OQMD dataset\n",
    "We want only the lowest-energy entry at each composition"
   ]
  },
  {
   "cell_type": "code",
   "execution_count": 2,
   "metadata": {},
   "outputs": [
    {
     "name": "stdout",
     "output_type": "stream",
     "text": [
      "Read 506114 entries\n"
     ]
    },
    {
     "name": "stderr",
     "output_type": "stream",
     "text": [
      "C:\\Users\\ward6\\Miniconda3\\lib\\site-packages\\IPython\\core\\interactiveshell.py:2698: DtypeWarning: Columns (1,2) have mixed types. Specify dtype option on import or set low_memory=False.\n",
      "  interactivity=interactivity, compiler=compiler, result=result)\n"
     ]
    },
    {
     "data": {
      "text/html": [
       "<div>\n",
       "<style>\n",
       "    .dataframe thead tr:only-child th {\n",
       "        text-align: right;\n",
       "    }\n",
       "\n",
       "    .dataframe thead th {\n",
       "        text-align: left;\n",
       "    }\n",
       "\n",
       "    .dataframe tbody tr th {\n",
       "        vertical-align: top;\n",
       "    }\n",
       "</style>\n",
       "<table border=\"1\" class=\"dataframe\">\n",
       "  <thead>\n",
       "    <tr style=\"text-align: right;\">\n",
       "      <th></th>\n",
       "      <th>comp</th>\n",
       "      <th>energy_pa</th>\n",
       "      <th>volume_pa</th>\n",
       "      <th>magmom_pa</th>\n",
       "      <th>bandgap</th>\n",
       "      <th>delta_e</th>\n",
       "      <th>stability</th>\n",
       "    </tr>\n",
       "  </thead>\n",
       "  <tbody>\n",
       "    <tr>\n",
       "      <th>0</th>\n",
       "      <td>Li1</td>\n",
       "      <td>-1.892</td>\n",
       "      <td>17.8351</td>\n",
       "      <td>None</td>\n",
       "      <td>0.0</td>\n",
       "      <td>0.015186</td>\n",
       "      <td>0.0151862666667</td>\n",
       "    </tr>\n",
       "    <tr>\n",
       "      <th>1</th>\n",
       "      <td>Mg1</td>\n",
       "      <td>-1.5396</td>\n",
       "      <td>22.9639</td>\n",
       "      <td>None</td>\n",
       "      <td>0.0</td>\n",
       "      <td>0.002912</td>\n",
       "      <td>0.0029123775</td>\n",
       "    </tr>\n",
       "    <tr>\n",
       "      <th>2</th>\n",
       "      <td>Kr1</td>\n",
       "      <td>0.011256</td>\n",
       "      <td>41.4146</td>\n",
       "      <td>None</td>\n",
       "      <td>7.367</td>\n",
       "      <td>0.015315</td>\n",
       "      <td>0.015314775</td>\n",
       "    </tr>\n",
       "    <tr>\n",
       "      <th>3</th>\n",
       "      <td>Na1</td>\n",
       "      <td>-1.2991</td>\n",
       "      <td>32.9826</td>\n",
       "      <td>None</td>\n",
       "      <td>0.0</td>\n",
       "      <td>0.003780</td>\n",
       "      <td>0.00377956333333</td>\n",
       "    </tr>\n",
       "    <tr>\n",
       "      <th>4</th>\n",
       "      <td>Pd1</td>\n",
       "      <td>-5.15853</td>\n",
       "      <td>15.2088</td>\n",
       "      <td>None</td>\n",
       "      <td>0.0</td>\n",
       "      <td>0.018186</td>\n",
       "      <td>0.0181856433333</td>\n",
       "    </tr>\n",
       "  </tbody>\n",
       "</table>\n",
       "</div>"
      ],
      "text/plain": [
       "  comp energy_pa volume_pa magmom_pa bandgap   delta_e         stability\n",
       "0  Li1    -1.892   17.8351      None     0.0  0.015186   0.0151862666667\n",
       "1  Mg1   -1.5396   22.9639      None     0.0  0.002912      0.0029123775\n",
       "2  Kr1  0.011256   41.4146      None   7.367  0.015315       0.015314775\n",
       "3  Na1   -1.2991   32.9826      None     0.0  0.003780  0.00377956333333\n",
       "4  Pd1  -5.15853   15.2088      None     0.0  0.018186   0.0181856433333"
      ]
     },
     "execution_count": 2,
     "metadata": {},
     "output_type": "execute_result"
    }
   ],
   "source": [
    "oqmd_data = pd.read_csv(os.path.join('..', 'oqmd_all.txt'), delim_whitespace=True)\n",
    "print('Read %d entries'%len(oqmd_data))\n",
    "oqmd_data.head()"
   ]
  },
  {
   "cell_type": "markdown",
   "metadata": {},
   "source": [
    "Make all of the energies numeric"
   ]
  },
  {
   "cell_type": "code",
   "execution_count": 3,
   "metadata": {},
   "outputs": [],
   "source": [
    "for col in oqmd_data.columns:\n",
    "    if col == 'comp': continue\n",
    "    oqmd_data[col] = pd.to_numeric(oqmd_data[col], errors='coerce')"
   ]
  },
  {
   "cell_type": "markdown",
   "metadata": {},
   "source": [
    "Eliminate entries with weird formation enthalpies"
   ]
  },
  {
   "cell_type": "code",
   "execution_count": 4,
   "metadata": {},
   "outputs": [],
   "source": [
    "oqmd_data.query('delta_e > -20 and delta_e < 5', inplace=True)"
   ]
  },
  {
   "cell_type": "markdown",
   "metadata": {},
   "source": [
    "Generate the composition object of each entry"
   ]
  },
  {
   "cell_type": "code",
   "execution_count": 5,
   "metadata": {},
   "outputs": [],
   "source": [
    "oqmd_data['comp_obj'] = oqmd_data['comp'].apply(lambda x: Composition(x))"
   ]
  },
  {
   "cell_type": "code",
   "execution_count": 6,
   "metadata": {},
   "outputs": [
    {
     "name": "stderr",
     "output_type": "stream",
     "text": [
      "c:\\users\\ward6\\documents\\code\\python\\pymatgen\\pymatgen\\core\\periodic_table.py:408: UserWarning: No electronegativity for Ne. Setting to infinity. This has no physical meaning, and is mainly done to avoid errors caused by the code expecting a float.\n",
      "  % self.symbol)\n",
      "c:\\users\\ward6\\documents\\code\\python\\pymatgen\\pymatgen\\core\\periodic_table.py:408: UserWarning: No electronegativity for He. Setting to infinity. This has no physical meaning, and is mainly done to avoid errors caused by the code expecting a float.\n",
      "  % self.symbol)\n",
      "c:\\users\\ward6\\documents\\code\\python\\pymatgen\\pymatgen\\core\\periodic_table.py:408: UserWarning: No electronegativity for Ar. Setting to infinity. This has no physical meaning, and is mainly done to avoid errors caused by the code expecting a float.\n",
      "  % self.symbol)\n"
     ]
    }
   ],
   "source": [
    "oqmd_data['pretty_comp'] = oqmd_data['comp_obj'].apply(lambda x: x.reduced_formula)"
   ]
  },
  {
   "cell_type": "markdown",
   "metadata": {},
   "source": [
    "Get only the lowest-energy entry at each composition"
   ]
  },
  {
   "cell_type": "code",
   "execution_count": 7,
   "metadata": {},
   "outputs": [
    {
     "name": "stdout",
     "output_type": "stream",
     "text": [
      "Reduced dataset to 275701 entries\n"
     ]
    }
   ],
   "source": [
    "oqmd_data.sort_values('delta_e', ascending=True, inplace=True)\n",
    "oqmd_data.drop_duplicates('pretty_comp', keep='first', inplace=True)\n",
    "print('Reduced dataset to %d entries'%len(oqmd_data))"
   ]
  },
  {
   "cell_type": "markdown",
   "metadata": {},
   "source": [
    "## Identify the systems with large numbers of entries\n",
    "We want to find a system with a large amount of testing data"
   ]
  },
  {
   "cell_type": "code",
   "execution_count": 8,
   "metadata": {
    "collapsed": true
   },
   "outputs": [],
   "source": [
    "oqmd_data['nelems'] = oqmd_data['comp_obj'].apply(lambda x: len(x))"
   ]
  },
  {
   "cell_type": "code",
   "execution_count": 9,
   "metadata": {
    "collapsed": true
   },
   "outputs": [],
   "source": [
    "oqmd_data['system'] = oqmd_data['comp_obj'].apply(lambda x: \"-\".join([y.symbol for y in x]))"
   ]
  },
  {
   "cell_type": "markdown",
   "metadata": {},
   "source": [
    "Get the top-10 most frequent systems"
   ]
  },
  {
   "cell_type": "code",
   "execution_count": 10,
   "metadata": {},
   "outputs": [
    {
     "data": {
      "text/plain": [
       "Mn-Na-O    20\n",
       "O-Ti       18\n",
       "O-V        18\n",
       "Li-O-V     17\n",
       "Fe-Na-O    17\n",
       "H-O-V      17\n",
       "Li-Mn-O    16\n",
       "C-H-N-O    16\n",
       "Al-Mg      16\n",
       "Na-O-V     16\n",
       "Name: system, dtype: int64"
      ]
     },
     "execution_count": 10,
     "metadata": {},
     "output_type": "execute_result"
    }
   ],
   "source": [
    "oqmd_data['system'].value_counts()[:10]"
   ]
  },
  {
   "cell_type": "markdown",
   "metadata": {},
   "source": [
    "*Finding*: Mn-Na-O and Fe-Na-O are the most common ternaries. So, let's choose the Na-Fe-Mn-O quaternary as a hold-out"
   ]
  },
  {
   "cell_type": "code",
   "execution_count": 11,
   "metadata": {
    "collapsed": true
   },
   "outputs": [],
   "source": [
    "my_system = [\"Na\", \"Fe\", \"Mn\", \"O\"]"
   ]
  },
  {
   "cell_type": "code",
   "execution_count": 12,
   "metadata": {
    "collapsed": true
   },
   "outputs": [],
   "source": [
    "def get_all_data(elems):\n",
    "    \"\"\"Get the data that is in any of the phase diagrams that are subsets of a certain system\n",
    "    \n",
    "    Ex: For Na-Fe-O, these are Na-Fe-O, Na-Fe, Na-O, Fe-O, Na-Fe, Na, Fe, O\n",
    "    \n",
    "    :param elems: iterable of strs, phase diagram of interest\n",
    "    :return: subset of OQMD in the constituent systems\"\"\"\n",
    "    \n",
    "    # Generate the constituent systems\n",
    "    systems = set()\n",
    "    for comb in product(*[elems,]*len(elems)):\n",
    "        sys = \"-\".join(sorted(set(comb)))\n",
    "        systems.add(sys)\n",
    "    \n",
    "    # Query for the data\n",
    "    return oqmd_data.query(' or '.join('system==\"%s\"'%s for s in systems))"
   ]
  },
  {
   "cell_type": "code",
   "execution_count": 13,
   "metadata": {},
   "outputs": [
    {
     "name": "stdout",
     "output_type": "stream",
     "text": [
      "Gathered a test set with 96 entries\n"
     ]
    },
    {
     "data": {
      "text/html": [
       "<div>\n",
       "<style>\n",
       "    .dataframe thead tr:only-child th {\n",
       "        text-align: right;\n",
       "    }\n",
       "\n",
       "    .dataframe thead th {\n",
       "        text-align: left;\n",
       "    }\n",
       "\n",
       "    .dataframe tbody tr th {\n",
       "        vertical-align: top;\n",
       "    }\n",
       "</style>\n",
       "<table border=\"1\" class=\"dataframe\">\n",
       "  <thead>\n",
       "    <tr style=\"text-align: right;\">\n",
       "      <th></th>\n",
       "      <th>comp</th>\n",
       "      <th>energy_pa</th>\n",
       "      <th>volume_pa</th>\n",
       "      <th>magmom_pa</th>\n",
       "      <th>bandgap</th>\n",
       "      <th>delta_e</th>\n",
       "      <th>stability</th>\n",
       "      <th>comp_obj</th>\n",
       "      <th>pretty_comp</th>\n",
       "      <th>nelems</th>\n",
       "      <th>system</th>\n",
       "    </tr>\n",
       "  </thead>\n",
       "  <tbody>\n",
       "    <tr>\n",
       "      <th>395430</th>\n",
       "      <td>Fe1Na5O4</td>\n",
       "      <td>-4.664897</td>\n",
       "      <td>14.0727</td>\n",
       "      <td>0.499999</td>\n",
       "      <td>2.060</td>\n",
       "      <td>-1.652827</td>\n",
       "      <td>0.009442</td>\n",
       "      <td>(Fe, Na, O)</td>\n",
       "      <td>Na5FeO4</td>\n",
       "      <td>3</td>\n",
       "      <td>Fe-Na-O</td>\n",
       "    </tr>\n",
       "    <tr>\n",
       "      <th>332987</th>\n",
       "      <td>Mn1Na5O4</td>\n",
       "      <td>-4.771923</td>\n",
       "      <td>13.4157</td>\n",
       "      <td>0.400030</td>\n",
       "      <td>1.555</td>\n",
       "      <td>-1.669564</td>\n",
       "      <td>-0.000754</td>\n",
       "      <td>(Mn, Na, O)</td>\n",
       "      <td>Na5MnO4</td>\n",
       "      <td>3</td>\n",
       "      <td>Mn-Na-O</td>\n",
       "    </tr>\n",
       "    <tr>\n",
       "      <th>312050</th>\n",
       "      <td>Fe1Na4O3</td>\n",
       "      <td>-4.625395</td>\n",
       "      <td>14.6756</td>\n",
       "      <td>0.500132</td>\n",
       "      <td>1.435</td>\n",
       "      <td>-1.573075</td>\n",
       "      <td>-0.008985</td>\n",
       "      <td>(Fe, Na, O)</td>\n",
       "      <td>Na4FeO3</td>\n",
       "      <td>3</td>\n",
       "      <td>Fe-Na-O</td>\n",
       "    </tr>\n",
       "    <tr>\n",
       "      <th>338574</th>\n",
       "      <td>Fe3Mn1</td>\n",
       "      <td>-8.475788</td>\n",
       "      <td>10.5063</td>\n",
       "      <td>0.131962</td>\n",
       "      <td>0.000</td>\n",
       "      <td>0.011862</td>\n",
       "      <td>0.011862</td>\n",
       "      <td>(Fe, Mn)</td>\n",
       "      <td>MnFe3</td>\n",
       "      <td>2</td>\n",
       "      <td>Fe-Mn</td>\n",
       "    </tr>\n",
       "    <tr>\n",
       "      <th>341790</th>\n",
       "      <td>Fe1Na3</td>\n",
       "      <td>-2.403104</td>\n",
       "      <td>25.1112</td>\n",
       "      <td>0.731388</td>\n",
       "      <td>0.000</td>\n",
       "      <td>0.583714</td>\n",
       "      <td>0.583714</td>\n",
       "      <td>(Fe, Na)</td>\n",
       "      <td>Na3Fe</td>\n",
       "      <td>2</td>\n",
       "      <td>Fe-Na</td>\n",
       "    </tr>\n",
       "  </tbody>\n",
       "</table>\n",
       "</div>"
      ],
      "text/plain": [
       "            comp  energy_pa  volume_pa  magmom_pa  bandgap   delta_e  \\\n",
       "395430  Fe1Na5O4  -4.664897    14.0727   0.499999    2.060 -1.652827   \n",
       "332987  Mn1Na5O4  -4.771923    13.4157   0.400030    1.555 -1.669564   \n",
       "312050  Fe1Na4O3  -4.625395    14.6756   0.500132    1.435 -1.573075   \n",
       "338574    Fe3Mn1  -8.475788    10.5063   0.131962    0.000  0.011862   \n",
       "341790    Fe1Na3  -2.403104    25.1112   0.731388    0.000  0.583714   \n",
       "\n",
       "        stability     comp_obj pretty_comp  nelems   system  \n",
       "395430   0.009442  (Fe, Na, O)     Na5FeO4       3  Fe-Na-O  \n",
       "332987  -0.000754  (Mn, Na, O)     Na5MnO4       3  Mn-Na-O  \n",
       "312050  -0.008985  (Fe, Na, O)     Na4FeO3       3  Fe-Na-O  \n",
       "338574   0.011862     (Fe, Mn)       MnFe3       2    Fe-Mn  \n",
       "341790   0.583714     (Fe, Na)       Na3Fe       2    Fe-Na  "
      ]
     },
     "execution_count": 13,
     "metadata": {},
     "output_type": "execute_result"
    }
   ],
   "source": [
    "test_set = get_all_data(my_system)\n",
    "print('Gathered a test set with %d entries'%len(test_set))\n",
    "test_set.sample(5)"
   ]
  },
  {
   "cell_type": "markdown",
   "metadata": {},
   "source": [
    "Remove these entries from the dataset at large"
   ]
  },
  {
   "cell_type": "code",
   "execution_count": 14,
   "metadata": {},
   "outputs": [
    {
     "name": "stdout",
     "output_type": "stream",
     "text": [
      "Training set size is 275605 entries\n"
     ]
    }
   ],
   "source": [
    "train_set = oqmd_data.loc[oqmd_data.index.difference(test_set.index)]\n",
    "print('Training set size is %d entries'%len(train_set))"
   ]
  },
  {
   "cell_type": "markdown",
   "metadata": {},
   "source": [
    "## Save the data in Magpie-friendly format\n",
    "We will be using Magpie to generate features"
   ]
  },
  {
   "cell_type": "code",
   "execution_count": 15,
   "metadata": {
    "collapsed": true
   },
   "outputs": [],
   "source": [
    "def save_magpie(data, path):\n",
    "    \"\"\"Save a dataframe in a magpie-friendly format\n",
    "    \n",
    "    :param data: pd.DataFrame, data to be saved\n",
    "    :param path: str, output path\"\"\"\n",
    "    \n",
    "    data[['comp','delta_e']].to_csv(path, index=False, sep=' ')"
   ]
  },
  {
   "cell_type": "code",
   "execution_count": 16,
   "metadata": {
    "collapsed": true
   },
   "outputs": [],
   "source": [
    "save_magpie(test_set, os.path.join('datasets', '%s_test_set.data'%(''.join(my_system))))"
   ]
  },
  {
   "cell_type": "code",
   "execution_count": 17,
   "metadata": {
    "collapsed": true
   },
   "outputs": [],
   "source": [
    "save_magpie(train_set, os.path.join('datasets', '%s_train_set.data'%(''.join(my_system))))"
   ]
  },
  {
   "cell_type": "code",
   "execution_count": null,
   "metadata": {
    "collapsed": true
   },
   "outputs": [],
   "source": []
  }
 ],
 "metadata": {
  "kernelspec": {
   "display_name": "Python 3",
   "language": "python",
   "name": "python3"
  },
  "language_info": {
   "codemirror_mode": {
    "name": "ipython",
    "version": 3
   },
   "file_extension": ".py",
   "mimetype": "text/x-python",
   "name": "python",
   "nbconvert_exporter": "python",
   "pygments_lexer": "ipython3",
   "version": "3.6.0"
  }
 },
 "nbformat": 4,
 "nbformat_minor": 2
}
