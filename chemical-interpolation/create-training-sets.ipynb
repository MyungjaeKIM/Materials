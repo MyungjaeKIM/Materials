{
 "cells": [
  {
   "cell_type": "markdown",
   "metadata": {},
   "source": [
    "# Create Training Sets for Chemical Interpolation Test\n",
    "The goal of this test is to determine whether machine learning models are able to infer the interactions between elements that are not included in the training set. We will set up two different tests, \n",
    "1. Exclude a single quaternary. Withhold all entries that contain exclusively elements from the target \n",
    "2. Exclude a certain pair interaction. Withhold all entries that contain both elements in a certain pair"
   ]
  },
  {
   "cell_type": "code",
   "execution_count": 1,
   "metadata": {
    "collapsed": true
   },
   "outputs": [],
   "source": [
    "%matplotlib inline\n",
    "from matplotlib import pyplot as plt\n",
    "from pymatgen import Composition\n",
    "from itertools import product\n",
    "import pandas as pd\n",
    "import os\n",
    "import shutil"
   ]
  },
  {
   "cell_type": "markdown",
   "metadata": {},
   "source": [
    "## Read in the OQMD dataset\n",
    "We want only the lowest-energy entry at each composition"
   ]
  },
  {
   "cell_type": "code",
   "execution_count": 2,
   "metadata": {},
   "outputs": [
    {
     "name": "stdout",
     "output_type": "stream",
     "text": [
      "Read 506114 entries\n"
     ]
    },
    {
     "name": "stderr",
     "output_type": "stream",
     "text": [
      "C:\\Users\\ward6\\Miniconda3\\lib\\site-packages\\IPython\\core\\interactiveshell.py:2698: DtypeWarning: Columns (1,2) have mixed types. Specify dtype option on import or set low_memory=False.\n",
      "  interactivity=interactivity, compiler=compiler, result=result)\n"
     ]
    },
    {
     "data": {
      "text/html": [
       "<div>\n",
       "<style>\n",
       "    .dataframe thead tr:only-child th {\n",
       "        text-align: right;\n",
       "    }\n",
       "\n",
       "    .dataframe thead th {\n",
       "        text-align: left;\n",
       "    }\n",
       "\n",
       "    .dataframe tbody tr th {\n",
       "        vertical-align: top;\n",
       "    }\n",
       "</style>\n",
       "<table border=\"1\" class=\"dataframe\">\n",
       "  <thead>\n",
       "    <tr style=\"text-align: right;\">\n",
       "      <th></th>\n",
       "      <th>comp</th>\n",
       "      <th>energy_pa</th>\n",
       "      <th>volume_pa</th>\n",
       "      <th>magmom_pa</th>\n",
       "      <th>bandgap</th>\n",
       "      <th>delta_e</th>\n",
       "      <th>stability</th>\n",
       "    </tr>\n",
       "  </thead>\n",
       "  <tbody>\n",
       "    <tr>\n",
       "      <th>0</th>\n",
       "      <td>Li1</td>\n",
       "      <td>-1.892</td>\n",
       "      <td>17.8351</td>\n",
       "      <td>None</td>\n",
       "      <td>0.0</td>\n",
       "      <td>0.015186</td>\n",
       "      <td>0.0151862666667</td>\n",
       "    </tr>\n",
       "    <tr>\n",
       "      <th>1</th>\n",
       "      <td>Mg1</td>\n",
       "      <td>-1.5396</td>\n",
       "      <td>22.9639</td>\n",
       "      <td>None</td>\n",
       "      <td>0.0</td>\n",
       "      <td>0.002912</td>\n",
       "      <td>0.0029123775</td>\n",
       "    </tr>\n",
       "    <tr>\n",
       "      <th>2</th>\n",
       "      <td>Kr1</td>\n",
       "      <td>0.011256</td>\n",
       "      <td>41.4146</td>\n",
       "      <td>None</td>\n",
       "      <td>7.367</td>\n",
       "      <td>0.015315</td>\n",
       "      <td>0.015314775</td>\n",
       "    </tr>\n",
       "    <tr>\n",
       "      <th>3</th>\n",
       "      <td>Na1</td>\n",
       "      <td>-1.2991</td>\n",
       "      <td>32.9826</td>\n",
       "      <td>None</td>\n",
       "      <td>0.0</td>\n",
       "      <td>0.003780</td>\n",
       "      <td>0.00377956333333</td>\n",
       "    </tr>\n",
       "    <tr>\n",
       "      <th>4</th>\n",
       "      <td>Pd1</td>\n",
       "      <td>-5.15853</td>\n",
       "      <td>15.2088</td>\n",
       "      <td>None</td>\n",
       "      <td>0.0</td>\n",
       "      <td>0.018186</td>\n",
       "      <td>0.0181856433333</td>\n",
       "    </tr>\n",
       "  </tbody>\n",
       "</table>\n",
       "</div>"
      ],
      "text/plain": [
       "  comp energy_pa volume_pa magmom_pa bandgap   delta_e         stability\n",
       "0  Li1    -1.892   17.8351      None     0.0  0.015186   0.0151862666667\n",
       "1  Mg1   -1.5396   22.9639      None     0.0  0.002912      0.0029123775\n",
       "2  Kr1  0.011256   41.4146      None   7.367  0.015315       0.015314775\n",
       "3  Na1   -1.2991   32.9826      None     0.0  0.003780  0.00377956333333\n",
       "4  Pd1  -5.15853   15.2088      None     0.0  0.018186   0.0181856433333"
      ]
     },
     "execution_count": 2,
     "metadata": {},
     "output_type": "execute_result"
    }
   ],
   "source": [
    "oqmd_data = pd.read_csv(os.path.join('..', 'oqmd_all.txt'), delim_whitespace=True)\n",
    "print('Read %d entries'%len(oqmd_data))\n",
    "oqmd_data.head()"
   ]
  },
  {
   "cell_type": "markdown",
   "metadata": {},
   "source": [
    "Make all of the energies numeric"
   ]
  },
  {
   "cell_type": "code",
   "execution_count": 3,
   "metadata": {
    "collapsed": true
   },
   "outputs": [],
   "source": [
    "for col in oqmd_data.columns:\n",
    "    if col == 'comp': continue\n",
    "    oqmd_data[col] = pd.to_numeric(oqmd_data[col], errors='coerce')"
   ]
  },
  {
   "cell_type": "markdown",
   "metadata": {},
   "source": [
    "Eliminate entries with weird formation enthalpies"
   ]
  },
  {
   "cell_type": "code",
   "execution_count": 4,
   "metadata": {
    "collapsed": true
   },
   "outputs": [],
   "source": [
    "oqmd_data.query('delta_e > -20 and delta_e < 5', inplace=True)"
   ]
  },
  {
   "cell_type": "markdown",
   "metadata": {},
   "source": [
    "Generate the composition object of each entry"
   ]
  },
  {
   "cell_type": "code",
   "execution_count": 5,
   "metadata": {
    "collapsed": true
   },
   "outputs": [],
   "source": [
    "oqmd_data['comp_obj'] = oqmd_data['comp'].apply(lambda x: Composition(x))"
   ]
  },
  {
   "cell_type": "code",
   "execution_count": 6,
   "metadata": {
    "scrolled": true
   },
   "outputs": [
    {
     "name": "stderr",
     "output_type": "stream",
     "text": [
      "c:\\users\\ward6\\documents\\code\\python\\pymatgen\\pymatgen\\core\\periodic_table.py:408: UserWarning: No electronegativity for Ne. Setting to infinity. This has no physical meaning, and is mainly done to avoid errors caused by the code expecting a float.\n",
      "  % self.symbol)\n",
      "c:\\users\\ward6\\documents\\code\\python\\pymatgen\\pymatgen\\core\\periodic_table.py:408: UserWarning: No electronegativity for He. Setting to infinity. This has no physical meaning, and is mainly done to avoid errors caused by the code expecting a float.\n",
      "  % self.symbol)\n",
      "c:\\users\\ward6\\documents\\code\\python\\pymatgen\\pymatgen\\core\\periodic_table.py:408: UserWarning: No electronegativity for Ar. Setting to infinity. This has no physical meaning, and is mainly done to avoid errors caused by the code expecting a float.\n",
      "  % self.symbol)\n"
     ]
    }
   ],
   "source": [
    "oqmd_data['pretty_comp'] = oqmd_data['comp_obj'].apply(lambda x: x.reduced_formula)"
   ]
  },
  {
   "cell_type": "markdown",
   "metadata": {},
   "source": [
    "Get only the lowest-energy entry at each composition"
   ]
  },
  {
   "cell_type": "code",
   "execution_count": 7,
   "metadata": {},
   "outputs": [
    {
     "name": "stdout",
     "output_type": "stream",
     "text": [
      "Reduced dataset to 275701 entries\n"
     ]
    }
   ],
   "source": [
    "oqmd_data.sort_values('delta_e', ascending=True, inplace=True)\n",
    "oqmd_data.drop_duplicates('pretty_comp', keep='first', inplace=True)\n",
    "print('Reduced dataset to %d entries'%len(oqmd_data))"
   ]
  },
  {
   "cell_type": "markdown",
   "metadata": {},
   "source": [
    "## Identify the systems with large numbers of entries\n",
    "We want to find a system with a large amount of testing data"
   ]
  },
  {
   "cell_type": "code",
   "execution_count": 8,
   "metadata": {
    "collapsed": true
   },
   "outputs": [],
   "source": [
    "oqmd_data['nelems'] = oqmd_data['comp_obj'].apply(lambda x: len(x))"
   ]
  },
  {
   "cell_type": "code",
   "execution_count": 9,
   "metadata": {
    "collapsed": true
   },
   "outputs": [],
   "source": [
    "oqmd_data['system'] = oqmd_data['comp_obj'].apply(lambda x: \"-\".join([y.symbol for y in x]))"
   ]
  },
  {
   "cell_type": "markdown",
   "metadata": {},
   "source": [
    "Get the top-10 most frequent systems"
   ]
  },
  {
   "cell_type": "code",
   "execution_count": 10,
   "metadata": {},
   "outputs": [
    {
     "data": {
      "text/plain": [
       "Mn-Na-O    20\n",
       "O-V        18\n",
       "O-Ti       18\n",
       "Fe-Na-O    17\n",
       "H-O-V      17\n",
       "Li-O-V     17\n",
       "Na-O-V     16\n",
       "Al-Mg      16\n",
       "C-H-N-O    16\n",
       "Li-Mn-O    16\n",
       "Name: system, dtype: int64"
      ]
     },
     "execution_count": 10,
     "metadata": {},
     "output_type": "execute_result"
    }
   ],
   "source": [
    "oqmd_data['system'].value_counts()[:10]"
   ]
  },
  {
   "cell_type": "markdown",
   "metadata": {},
   "source": [
    "*Finding*: Mn-Na-O and Fe-Na-O are the most common ternaries. So, let's choose the Na-Fe-Mn-O quaternary as a hold-out. Also, there are a large number of Ti-O binary compounds, so let's use that one as the pairwise interaction holdout"
   ]
  },
  {
   "cell_type": "markdown",
   "metadata": {},
   "source": [
    "## Exclude a Quaternary Diagram\n",
    "Exclude the NaFeMnO data as the hold-out set"
   ]
  },
  {
   "cell_type": "code",
   "execution_count": 11,
   "metadata": {
    "collapsed": true
   },
   "outputs": [],
   "source": [
    "my_system = [\"Na\", \"Fe\", \"Mn\", \"O\"]"
   ]
  },
  {
   "cell_type": "code",
   "execution_count": 12,
   "metadata": {
    "collapsed": true
   },
   "outputs": [],
   "source": [
    "def get_test_data(elems):\n",
    "    \"\"\"Get the data that is in any of the phase diagrams that are subsets of a certain system\n",
    "    \n",
    "    Ex: For Na-Fe-O, these are Na-Fe-O, Na-Fe, Na-O, Fe-O, Na-Fe, Na, Fe, O\n",
    "    \n",
    "    :param elems: iterable of strs, phase diagram of interest\n",
    "    :return: subset of OQMD in the constituent systems\"\"\"\n",
    "    \n",
    "    # Generate the constituent systems\n",
    "    systems = set()\n",
    "    for comb in product(*[elems,]*len(elems)):\n",
    "        sys = \"-\".join(sorted(set(comb)))\n",
    "        systems.add(sys)\n",
    "    \n",
    "    # Query for the data\n",
    "    return oqmd_data.query(' or '.join('system==\"%s\"'%s for s in systems))"
   ]
  },
  {
   "cell_type": "code",
   "execution_count": 13,
   "metadata": {},
   "outputs": [
    {
     "name": "stdout",
     "output_type": "stream",
     "text": [
      "Gathered a test set with 96 entries\n"
     ]
    },
    {
     "data": {
      "text/html": [
       "<div>\n",
       "<style>\n",
       "    .dataframe thead tr:only-child th {\n",
       "        text-align: right;\n",
       "    }\n",
       "\n",
       "    .dataframe thead th {\n",
       "        text-align: left;\n",
       "    }\n",
       "\n",
       "    .dataframe tbody tr th {\n",
       "        vertical-align: top;\n",
       "    }\n",
       "</style>\n",
       "<table border=\"1\" class=\"dataframe\">\n",
       "  <thead>\n",
       "    <tr style=\"text-align: right;\">\n",
       "      <th></th>\n",
       "      <th>comp</th>\n",
       "      <th>energy_pa</th>\n",
       "      <th>volume_pa</th>\n",
       "      <th>magmom_pa</th>\n",
       "      <th>bandgap</th>\n",
       "      <th>delta_e</th>\n",
       "      <th>stability</th>\n",
       "      <th>comp_obj</th>\n",
       "      <th>pretty_comp</th>\n",
       "      <th>nelems</th>\n",
       "      <th>system</th>\n",
       "    </tr>\n",
       "  </thead>\n",
       "  <tbody>\n",
       "    <tr>\n",
       "      <th>212160</th>\n",
       "      <td>Fe1O1</td>\n",
       "      <td>-6.813098</td>\n",
       "      <td>10.1510</td>\n",
       "      <td>1.999966</td>\n",
       "      <td>1.089</td>\n",
       "      <td>-1.525553</td>\n",
       "      <td>-0.081994</td>\n",
       "      <td>(Fe, O)</td>\n",
       "      <td>FeO</td>\n",
       "      <td>2</td>\n",
       "      <td>Fe-O</td>\n",
       "    </tr>\n",
       "    <tr>\n",
       "      <th>416707</th>\n",
       "      <td>Fe2O3</td>\n",
       "      <td>-6.788938</td>\n",
       "      <td>10.4454</td>\n",
       "      <td>2.000041</td>\n",
       "      <td>1.093</td>\n",
       "      <td>-1.655547</td>\n",
       "      <td>-0.083418</td>\n",
       "      <td>(Fe, O)</td>\n",
       "      <td>Fe2O3</td>\n",
       "      <td>2</td>\n",
       "      <td>Fe-O</td>\n",
       "    </tr>\n",
       "    <tr>\n",
       "      <th>360444</th>\n",
       "      <td>Fe2O5</td>\n",
       "      <td>-5.692808</td>\n",
       "      <td>11.8017</td>\n",
       "      <td>0.856223</td>\n",
       "      <td>0.000</td>\n",
       "      <td>-0.735593</td>\n",
       "      <td>0.446939</td>\n",
       "      <td>(Fe, O)</td>\n",
       "      <td>Fe2O5</td>\n",
       "      <td>2</td>\n",
       "      <td>Fe-O</td>\n",
       "    </tr>\n",
       "    <tr>\n",
       "      <th>363388</th>\n",
       "      <td>Mn1Na1O2</td>\n",
       "      <td>-6.318980</td>\n",
       "      <td>10.8548</td>\n",
       "      <td>1.000052</td>\n",
       "      <td>1.290</td>\n",
       "      <td>-2.023221</td>\n",
       "      <td>-0.093863</td>\n",
       "      <td>(Mn, Na, O)</td>\n",
       "      <td>NaMnO2</td>\n",
       "      <td>3</td>\n",
       "      <td>Mn-Na-O</td>\n",
       "    </tr>\n",
       "    <tr>\n",
       "      <th>346958</th>\n",
       "      <td>Na2O3</td>\n",
       "      <td>-4.088824</td>\n",
       "      <td>12.5533</td>\n",
       "      <td>NaN</td>\n",
       "      <td>0.000</td>\n",
       "      <td>-0.912622</td>\n",
       "      <td>0.285744</td>\n",
       "      <td>(Na, O)</td>\n",
       "      <td>Na2O3</td>\n",
       "      <td>2</td>\n",
       "      <td>Na-O</td>\n",
       "    </tr>\n",
       "  </tbody>\n",
       "</table>\n",
       "</div>"
      ],
      "text/plain": [
       "            comp  energy_pa  volume_pa  magmom_pa  bandgap   delta_e  \\\n",
       "212160     Fe1O1  -6.813098    10.1510   1.999966    1.089 -1.525553   \n",
       "416707     Fe2O3  -6.788938    10.4454   2.000041    1.093 -1.655547   \n",
       "360444     Fe2O5  -5.692808    11.8017   0.856223    0.000 -0.735593   \n",
       "363388  Mn1Na1O2  -6.318980    10.8548   1.000052    1.290 -2.023221   \n",
       "346958     Na2O3  -4.088824    12.5533        NaN    0.000 -0.912622   \n",
       "\n",
       "        stability     comp_obj pretty_comp  nelems   system  \n",
       "212160  -0.081994      (Fe, O)         FeO       2     Fe-O  \n",
       "416707  -0.083418      (Fe, O)       Fe2O3       2     Fe-O  \n",
       "360444   0.446939      (Fe, O)       Fe2O5       2     Fe-O  \n",
       "363388  -0.093863  (Mn, Na, O)      NaMnO2       3  Mn-Na-O  \n",
       "346958   0.285744      (Na, O)       Na2O3       2     Na-O  "
      ]
     },
     "execution_count": 13,
     "metadata": {},
     "output_type": "execute_result"
    }
   ],
   "source": [
    "test_set = get_test_data(my_system)\n",
    "print('Gathered a test set with %d entries'%len(test_set))\n",
    "test_set.sample(5)"
   ]
  },
  {
   "cell_type": "markdown",
   "metadata": {},
   "source": [
    "Remove these entries from the dataset at large"
   ]
  },
  {
   "cell_type": "code",
   "execution_count": 14,
   "metadata": {},
   "outputs": [
    {
     "name": "stdout",
     "output_type": "stream",
     "text": [
      "Training set size is 275605 entries\n"
     ]
    }
   ],
   "source": [
    "train_set = oqmd_data.loc[oqmd_data.index.difference(test_set.index)]\n",
    "print('Training set size is %d entries'%len(train_set))"
   ]
  },
  {
   "cell_type": "markdown",
   "metadata": {},
   "source": [
    "### Save the data in Magpie-friendly format\n",
    "We will be using Magpie to generate features"
   ]
  },
  {
   "cell_type": "code",
   "execution_count": 15,
   "metadata": {
    "collapsed": true
   },
   "outputs": [],
   "source": [
    "def save_magpie(data, path):\n",
    "    \"\"\"Save a dataframe in a magpie-friendly format\n",
    "    \n",
    "    :param data: pd.DataFrame, data to be saved\n",
    "    :param path: str, output path\"\"\"\n",
    "    \n",
    "    data[['comp','delta_e']].to_csv(path, index=False, sep=' ')"
   ]
  },
  {
   "cell_type": "code",
   "execution_count": 16,
   "metadata": {
    "collapsed": true
   },
   "outputs": [],
   "source": [
    "save_magpie(test_set, os.path.join('datasets', '%s_test_set.data'%(''.join(my_system))))"
   ]
  },
  {
   "cell_type": "code",
   "execution_count": 17,
   "metadata": {
    "collapsed": true
   },
   "outputs": [],
   "source": [
    "save_magpie(train_set, os.path.join('datasets', '%s_train_set.data'%(''.join(my_system))))"
   ]
  },
  {
   "cell_type": "markdown",
   "metadata": {
    "collapsed": true
   },
   "source": [
    "## Generate the hold-pairwise out dataset"
   ]
  },
  {
   "cell_type": "code",
   "execution_count": 18,
   "metadata": {
    "collapsed": true
   },
   "outputs": [],
   "source": [
    "my_pair = ['Ti', 'O']"
   ]
  },
  {
   "cell_type": "code",
   "execution_count": 19,
   "metadata": {
    "collapsed": true
   },
   "outputs": [],
   "source": [
    "def get_test_data(elems):\n",
    "    \"\"\"Get the data that contains all of a certain set of elements.\n",
    "        \n",
    "    :param elems: iterable of strs, elems to exclude\n",
    "    :return: subset of OQMD in the constituent systems\"\"\"\n",
    "    \n",
    "    # Process the dataset\n",
    "    hit = oqmd_data['system'].apply(lambda x: all([e in x.split(\"-\") for e in elems]))\n",
    "    return oqmd_data[hit]"
   ]
  },
  {
   "cell_type": "code",
   "execution_count": 20,
   "metadata": {},
   "outputs": [
    {
     "name": "stdout",
     "output_type": "stream",
     "text": [
      "Gathered a test set with 561 entries\n"
     ]
    },
    {
     "data": {
      "text/html": [
       "<div>\n",
       "<style>\n",
       "    .dataframe thead tr:only-child th {\n",
       "        text-align: right;\n",
       "    }\n",
       "\n",
       "    .dataframe thead th {\n",
       "        text-align: left;\n",
       "    }\n",
       "\n",
       "    .dataframe tbody tr th {\n",
       "        vertical-align: top;\n",
       "    }\n",
       "</style>\n",
       "<table border=\"1\" class=\"dataframe\">\n",
       "  <thead>\n",
       "    <tr style=\"text-align: right;\">\n",
       "      <th></th>\n",
       "      <th>comp</th>\n",
       "      <th>energy_pa</th>\n",
       "      <th>volume_pa</th>\n",
       "      <th>magmom_pa</th>\n",
       "      <th>bandgap</th>\n",
       "      <th>delta_e</th>\n",
       "      <th>stability</th>\n",
       "      <th>comp_obj</th>\n",
       "      <th>pretty_comp</th>\n",
       "      <th>nelems</th>\n",
       "      <th>system</th>\n",
       "    </tr>\n",
       "  </thead>\n",
       "  <tbody>\n",
       "    <tr>\n",
       "      <th>137418</th>\n",
       "      <td>O3Pt1Ti1</td>\n",
       "      <td>-6.817401</td>\n",
       "      <td>11.4909</td>\n",
       "      <td>0.399567</td>\n",
       "      <td>0.000</td>\n",
       "      <td>-1.372766</td>\n",
       "      <td>0.818943</td>\n",
       "      <td>(O, Pt, Ti)</td>\n",
       "      <td>TiPtO3</td>\n",
       "      <td>3</td>\n",
       "      <td>O-Pt-Ti</td>\n",
       "    </tr>\n",
       "    <tr>\n",
       "      <th>36630</th>\n",
       "      <td>Cl1Eu1O3Ti1</td>\n",
       "      <td>-6.939212</td>\n",
       "      <td>15.6371</td>\n",
       "      <td>0.166675</td>\n",
       "      <td>0.000</td>\n",
       "      <td>-2.852515</td>\n",
       "      <td>0.173256</td>\n",
       "      <td>(Cl, Eu, O, Ti)</td>\n",
       "      <td>EuTiClO3</td>\n",
       "      <td>4</td>\n",
       "      <td>Cl-Eu-O-Ti</td>\n",
       "    </tr>\n",
       "    <tr>\n",
       "      <th>314398</th>\n",
       "      <td>Ba2Cu2O11Tb2Ti2</td>\n",
       "      <td>-7.215096</td>\n",
       "      <td>12.3693</td>\n",
       "      <td>0.026502</td>\n",
       "      <td>0.000</td>\n",
       "      <td>-2.804669</td>\n",
       "      <td>0.045485</td>\n",
       "      <td>(Ba, Cu, O, Tb, Ti)</td>\n",
       "      <td>Ba2Tb2Ti2Cu2O11</td>\n",
       "      <td>5</td>\n",
       "      <td>Ba-Cu-O-Tb-Ti</td>\n",
       "    </tr>\n",
       "    <tr>\n",
       "      <th>107270</th>\n",
       "      <td>Mg1O5Ti2</td>\n",
       "      <td>-8.153713</td>\n",
       "      <td>11.3546</td>\n",
       "      <td>-0.000330</td>\n",
       "      <td>2.677</td>\n",
       "      <td>-3.212235</td>\n",
       "      <td>NaN</td>\n",
       "      <td>(Mg, O, Ti)</td>\n",
       "      <td>MgTi2O5</td>\n",
       "      <td>3</td>\n",
       "      <td>Mg-O-Ti</td>\n",
       "    </tr>\n",
       "    <tr>\n",
       "      <th>359934</th>\n",
       "      <td>Mn1O24P6Ti4</td>\n",
       "      <td>-7.886144</td>\n",
       "      <td>12.5348</td>\n",
       "      <td>0.142933</td>\n",
       "      <td>2.478</td>\n",
       "      <td>-2.825866</td>\n",
       "      <td>-0.156948</td>\n",
       "      <td>(Mn, O, P, Ti)</td>\n",
       "      <td>Ti4Mn(PO4)6</td>\n",
       "      <td>4</td>\n",
       "      <td>Mn-O-P-Ti</td>\n",
       "    </tr>\n",
       "  </tbody>\n",
       "</table>\n",
       "</div>"
      ],
      "text/plain": [
       "                   comp  energy_pa  volume_pa  magmom_pa  bandgap   delta_e  \\\n",
       "137418         O3Pt1Ti1  -6.817401    11.4909   0.399567    0.000 -1.372766   \n",
       "36630       Cl1Eu1O3Ti1  -6.939212    15.6371   0.166675    0.000 -2.852515   \n",
       "314398  Ba2Cu2O11Tb2Ti2  -7.215096    12.3693   0.026502    0.000 -2.804669   \n",
       "107270         Mg1O5Ti2  -8.153713    11.3546  -0.000330    2.677 -3.212235   \n",
       "359934      Mn1O24P6Ti4  -7.886144    12.5348   0.142933    2.478 -2.825866   \n",
       "\n",
       "        stability             comp_obj      pretty_comp  nelems         system  \n",
       "137418   0.818943          (O, Pt, Ti)           TiPtO3       3        O-Pt-Ti  \n",
       "36630    0.173256      (Cl, Eu, O, Ti)         EuTiClO3       4     Cl-Eu-O-Ti  \n",
       "314398   0.045485  (Ba, Cu, O, Tb, Ti)  Ba2Tb2Ti2Cu2O11       5  Ba-Cu-O-Tb-Ti  \n",
       "107270        NaN          (Mg, O, Ti)          MgTi2O5       3        Mg-O-Ti  \n",
       "359934  -0.156948       (Mn, O, P, Ti)      Ti4Mn(PO4)6       4      Mn-O-P-Ti  "
      ]
     },
     "execution_count": 20,
     "metadata": {},
     "output_type": "execute_result"
    }
   ],
   "source": [
    "test_set = get_test_data(my_pair)\n",
    "print('Gathered a test set with %d entries'%len(test_set))\n",
    "test_set.sample(5)"
   ]
  },
  {
   "cell_type": "markdown",
   "metadata": {},
   "source": [
    "Remove these entries from the dataset at large"
   ]
  },
  {
   "cell_type": "code",
   "execution_count": 21,
   "metadata": {},
   "outputs": [
    {
     "name": "stdout",
     "output_type": "stream",
     "text": [
      "Training set size is 275140 entries\n"
     ]
    }
   ],
   "source": [
    "train_set = oqmd_data.loc[oqmd_data.index.difference(test_set.index)]\n",
    "print('Training set size is %d entries'%len(train_set))"
   ]
  },
  {
   "cell_type": "markdown",
   "metadata": {},
   "source": [
    "Save the data"
   ]
  },
  {
   "cell_type": "code",
   "execution_count": 24,
   "metadata": {
    "collapsed": true
   },
   "outputs": [],
   "source": [
    "save_magpie(test_set, os.path.join('datasets', '%s_test_set.data'%('-'.join(my_pair))))"
   ]
  },
  {
   "cell_type": "code",
   "execution_count": 25,
   "metadata": {
    "collapsed": true
   },
   "outputs": [],
   "source": [
    "save_magpie(train_set, os.path.join('datasets', '%s_train_set.data'%('-'.join(my_pair))))"
   ]
  },
  {
   "cell_type": "code",
   "execution_count": null,
   "metadata": {
    "collapsed": true
   },
   "outputs": [],
   "source": []
  }
 ],
 "metadata": {
  "kernelspec": {
   "display_name": "Python 3",
   "language": "python",
   "name": "python3"
  },
  "language_info": {
   "codemirror_mode": {
    "name": "ipython",
    "version": 3
   },
   "file_extension": ".py",
   "mimetype": "text/x-python",
   "name": "python",
   "nbconvert_exporter": "python",
   "pygments_lexer": "ipython3",
   "version": "3.6.0"
  }
 },
 "nbformat": 4,
 "nbformat_minor": 2
}
