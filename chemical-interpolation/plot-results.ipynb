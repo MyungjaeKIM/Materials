{
 "cells": [
  {
   "cell_type": "markdown",
   "metadata": {},
   "source": [
    "# Plot the Results\n",
    "Plot the ternaries and binaries predicted using machine learning"
   ]
  },
  {
   "cell_type": "code",
   "execution_count": 1,
   "metadata": {
    "collapsed": true
   },
   "outputs": [],
   "source": [
    "%matplotlib inline\n",
    "from matplotlib import pyplot as plt\n",
    "from scipy.spatial import ConvexHull\n",
    "import numpy as np\n",
    "import pandas as pd\n",
    "import ternary\n",
    "import os"
   ]
  },
  {
   "cell_type": "markdown",
   "metadata": {},
   "source": [
    "Variables to change"
   ]
  },
  {
   "cell_type": "code",
   "execution_count": 2,
   "metadata": {
    "collapsed": true
   },
   "outputs": [],
   "source": [
    "figure_width = 89 / 25.4\n",
    "figure_height = figure_width * 0.7"
   ]
  },
  {
   "cell_type": "markdown",
   "metadata": {},
   "source": [
    "## Plot the Ti-O Binary\n",
    "The goal is to see how well the convex hull of the ML models agrees with reality"
   ]
  },
  {
   "cell_type": "markdown",
   "metadata": {},
   "source": [
    "### Read the data"
   ]
  },
  {
   "cell_type": "code",
   "execution_count": 3,
   "metadata": {
    "collapsed": true
   },
   "outputs": [],
   "source": [
    "dft_data = pd.read_csv(os.path.join('datasets', 'Ti-O_test_set-fractions.csv'))"
   ]
  },
  {
   "cell_type": "code",
   "execution_count": 4,
   "metadata": {
    "collapsed": true
   },
   "outputs": [],
   "source": [
    "rf_fractions_data = pd.read_csv(os.path.join('model-outputs', 'RF_Ti-O_search-space-fractions.csv'))"
   ]
  },
  {
   "cell_type": "markdown",
   "metadata": {},
   "source": [
    "### Make the plots"
   ]
  },
  {
   "cell_type": "code",
   "execution_count": 5,
   "metadata": {
    "collapsed": true
   },
   "outputs": [],
   "source": [
    "dft_TiO = dft_data.query('X_Ti + X_O > 0.99')"
   ]
  },
  {
   "cell_type": "code",
   "execution_count": 6,
   "metadata": {
    "collapsed": true
   },
   "outputs": [],
   "source": [
    "rf_fractions_TiO = rf_fractions_data.query('X_Ti + X_O > 0.99 and X_Ti > 0 and X_O > 0')"
   ]
  },
  {
   "cell_type": "code",
   "execution_count": 7,
   "metadata": {
    "collapsed": true
   },
   "outputs": [],
   "source": [
    "def get_hull(data):\n",
    "    \"\"\"Get the plot points for the Ti-O binary convex hull\"\"\"\n",
    "    # Generate the points\n",
    "    hull_points = data[['X_Ti', 'delta_e']].query('delta_e < 0').values.tolist()\n",
    "    original_len = len(hull_points)\n",
    "    hull_points.extend([[0,0],[1,0]])\n",
    "    hull_points = np.array(hull_points)\n",
    "    \n",
    "    # Compute the convex hull\n",
    "    hull = ConvexHull(hull_points)\n",
    "    \n",
    "    # Return the coordinate of the plot\n",
    "    plot_points = []\n",
    "    for simplex in hull.simplices:\n",
    "        if all([x >= original_len for x in simplex]):\n",
    "            continue # This is the [0,1] point\n",
    "        plot_points.append([hull_points[simplex, 0], hull_points[simplex, 1]])\n",
    "    return plot_points"
   ]
  },
  {
   "cell_type": "code",
   "execution_count": 8,
   "metadata": {},
   "outputs": [
    {
     "data": {
      "image/png": "[encoded data removed]",
      "text/plain": [
       "<matplotlib.figure.Figure at 0x1f37a637860>"
      ]
     },
     "metadata": {},
     "output_type": "display_data"
    }
   ],
   "source": [
    "fig, ax = plt.subplots()\n",
    "\n",
    "# Plot the DFT convex hull\n",
    "ax.scatter(dft_TiO['X_Ti'], dft_TiO['delta_e'], marker='x', color='k', label='DFT')\n",
    "for x, y in get_hull(dft_TiO):\n",
    "    ax.plot(x, y, 'k')\n",
    "\n",
    "# Plot the RF convex hull\n",
    "ax.scatter(rf_fractions_TiO['X_Ti'], rf_fractions_TiO['delta_e'], s=5,\n",
    "           marker='o', color='b', facecolor='none', label='RF-Fractions')\n",
    "for x, y in get_hull(rf_fractions_TiO):\n",
    "    ax.plot(x, y, 'b')\n",
    "    \n",
    "ax.legend(fontsize=10)\n",
    "\n",
    "ax.set_xlabel('$x_{Ti}$ (at%)', fontsize=12)\n",
    "ax.set_ylabel('$\\Delta H_f$ (eV/atom)', fontsize=12)\n",
    "\n",
    "fig.set_size_inches(figure_width, figure_height)\n",
    "\n",
    "fig.savefig(os.path.join('figures', 'TiO-binary.png'), dpi=320)\n",
    "fig.savefig(os.path.join('figures', 'TiO-binary.pdf'))"
   ]
  },
  {
   "cell_type": "markdown",
   "metadata": {
    "collapsed": true
   },
   "source": [
    "## Make a ternary plot\n",
    "Plot one of the ternaries in the Na-Fe-Mn-O leave-out test"
   ]
  },
  {
   "cell_type": "markdown",
   "metadata": {},
   "source": [
    "### Read the data"
   ]
  },
  {
   "cell_type": "code",
   "execution_count": 9,
   "metadata": {
    "collapsed": true
   },
   "outputs": [],
   "source": [
    "dft_data = pd.read_csv(os.path.join('datasets', 'NaFeMnO_test_set-fractions.csv'))"
   ]
  },
  {
   "cell_type": "code",
   "execution_count": 10,
   "metadata": {},
   "outputs": [],
   "source": [
    "rf_fractions_data = pd.read_csv(os.path.join('model-outputs', 'RF_NaFeMnO_search-space-fractions.csv'))"
   ]
  },
  {
   "cell_type": "markdown",
   "metadata": {
    "collapsed": true
   },
   "source": [
    "### Make the plot"
   ]
  },
  {
   "cell_type": "code",
   "execution_count": 11,
   "metadata": {
    "collapsed": true
   },
   "outputs": [],
   "source": [
    "dft_NaMnO = dft_data[np.isclose(dft_data[['X_Na', 'X_Mn', 'X_O']].sum(axis=1), 1)]"
   ]
  },
  {
   "cell_type": "code",
   "execution_count": 12,
   "metadata": {},
   "outputs": [],
   "source": [
    "rf_fractions_NaMnO = rf_fractions_data[np.isclose(rf_fractions_data[['X_Na', 'X_Mn', 'X_O']].sum(axis=1), 1)].query(\n",
    "    ' and '.join(['X_%s > 0'%x for x in ['Mn', 'Na', 'O']]))"
   ]
  },
  {
   "cell_type": "code",
   "execution_count": 13,
   "metadata": {
    "collapsed": true
   },
   "outputs": [],
   "source": [
    "def get_hull(data):\n",
    "    \"\"\"Get the plot points for the Ti-O binary convex hull\"\"\"\n",
    "    # Generate the points\n",
    "    hull_points = data[['X_Na', 'X_Mn', 'delta_e']].query('delta_e < 0').values.tolist()\n",
    "    original_len = len(hull_points)\n",
    "    hull_points.extend([[0,0,0],[0,1,0],[1,0,0]])\n",
    "    hull_points = np.array(hull_points)\n",
    "    \n",
    "    # Compute the convex hull\n",
    "    hull = ConvexHull(hull_points)\n",
    "    \n",
    "    # Return the coordinate of the plot\n",
    "    plot_points = []\n",
    "    for simplex in hull.simplices:\n",
    "        if all([x >= original_len for x in simplex]):\n",
    "            continue # This is the [0,1] point\n",
    "        x = np.append(hull_points[simplex, 0], hull_points[simplex[0], 0])\n",
    "        y = np.append(hull_points[simplex, 1], hull_points[simplex[0], 1])\n",
    "        plot_points.append([x, y])\n",
    "        \n",
    "    return plot_points"
   ]
  },
  {
   "cell_type": "code",
   "execution_count": 14,
   "metadata": {},
   "outputs": [
    {
     "data": {
      "image/png": "[encoded data removed]",
      "text/plain": [
       "<matplotlib.figure.Figure at 0x1f37a895a90>"
      ]
     },
     "metadata": {},
     "output_type": "display_data"
    }
   ],
   "source": [
    "fig, ax = plt.subplots()\n",
    "\n",
    "fig, tax = ternary.figure(scale=1, ax=ax)\n",
    "\n",
    "# Plot the DFT convex hull\n",
    "for x, y in get_hull(dft_NaMnO):\n",
    "    xs, ys = ternary.helpers.project_sequence(zip(x,y))\n",
    "    dft_h, = ax.plot(xs, ys, 'k', lw=0.5)\n",
    "\n",
    "# Plot the RF convex hull\n",
    "for x, y in get_hull(rf_fractions_NaMnO):\n",
    "    xs, ys = ternary.helpers.project_sequence(zip(x,y))\n",
    "    rf_f_h, = ax.plot(xs, ys, 'b', alpha=0.5, lw=0.5)\n",
    "\n",
    "# Make it pretty\n",
    "plt.axis('off')\n",
    "ax.set_xlim([-0.05, 1.10])\n",
    "ax.set_ylim([-0.05, 1.10 * 3 ** 0.5 / 2])\n",
    "ax.text(1.10, -.10, 'Na', ha='right', fontsize=12) # 1st elem\n",
    "ax.text(.50, .90, 'Mn', ha='center', fontsize=12) # 2nd elem\n",
    "ax.text(-.10, -.10, 'O', ha='left', fontsize=12) # 3rd elem\n",
    "\n",
    "ax.legend([dft_h, rf_f_h], ['DFT', 'RF-Fractions'], fontsize=8)\n",
    "\n",
    "ax.set_xlabel('$x_{Ti}$ (at%)', fontsize=12)\n",
    "ax.set_ylabel('$\\Delta H_f$ (eV/atom)', fontsize=12)\n",
    "\n",
    "fig.set_size_inches(figure_width, figure_width * 0.7)\n",
    "\n",
    "fig.savefig(os.path.join('figures', 'NaMnO-ternary.png'), dpi=320)\n",
    "fig.savefig(os.path.join('figures', 'NaMnO-ternary.pdf'))"
   ]
  },
  {
   "cell_type": "code",
   "execution_count": null,
   "metadata": {
    "collapsed": true
   },
   "outputs": [],
   "source": []
  },
  {
   "cell_type": "code",
   "execution_count": null,
   "metadata": {
    "collapsed": true
   },
   "outputs": [],
   "source": []
  }
 ],
 "metadata": {
  "kernelspec": {
   "display_name": "Python 3",
   "language": "python",
   "name": "python3"
  },
  "language_info": {
   "codemirror_mode": {
    "name": "ipython",
    "version": 3
   },
   "file_extension": ".py",
   "mimetype": "text/x-python",
   "name": "python",
   "nbconvert_exporter": "python",
   "pygments_lexer": "ipython3",
   "version": "3.6.0"
  }
 },
 "nbformat": 4,
 "nbformat_minor": 2
}
