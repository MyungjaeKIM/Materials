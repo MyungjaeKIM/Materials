{
 "cells": [
  {
   "cell_type": "markdown",
   "metadata": {},
   "source": [
    "# Find Interesting Predictions\n",
    "Out of the $500M$ predictions, some predictions are more interesting than others."
   ]
  },
  {
   "cell_type": "code",
   "execution_count": 1,
   "metadata": {
    "collapsed": true
   },
   "outputs": [],
   "source": [
    "%matplotlib inline\n",
    "from pymatgen import Composition, Element\n",
    "from pymatgen.analysis.hhi.hhi import HHIModel\n",
    "from pymatgen.util.string import latexify\n",
    "from sklearn.cluster import AgglomerativeClustering\n",
    "from sklearn.model_selection import GridSearchCV\n",
    "from sklearn.metrics import silhouette_score\n",
    "import itertools\n",
    "import os\n",
    "import re\n",
    "import pandas as pd\n",
    "import numpy as np"
   ]
  },
  {
   "cell_type": "markdown",
   "metadata": {},
   "source": [
    "## Load in the Data\n",
    "Load in the deep learning predictions. "
   ]
  },
  {
   "cell_type": "code",
   "execution_count": 2,
   "metadata": {},
   "outputs": [
    {
     "name": "stdout",
     "output_type": "stream",
     "text": [
      "CPU times: user 9min 3s, sys: 4.17 s, total: 9min 8s\n",
      "Wall time: 9min 8s\n"
     ]
    }
   ],
   "source": [
    "%%time\n",
    "def load_DL_predictions(path):\n",
    "    \"\"\"Loads in the predictions from Dipendra, and renames the `delta_e` column to match the `oqmd_data`\n",
    "    \n",
    "    Also generates a `PDEntry` for each composition, and computes which system this entry is in\n",
    "    \"\"\"\n",
    "    output = pd.read_csv(path, sep=' ')\n",
    "    output.rename(columns={'delta_e_predicted': 'delta_e'}, inplace=True)\n",
    "    output['comp_obj'] = output['composition'].apply(lambda x: Composition(x))\n",
    "    return output\n",
    "dl_predictions = dict([(x, load_DL_predictions(os.path.join('new-datasets', '%s_stable-0.2.data.gz'%x)))\n",
    "     for x in ['binary', 'ternary', 'quaternary']\n",
    "     ])"
   ]
  },
  {
   "cell_type": "markdown",
   "metadata": {},
   "source": [
    "## Define Utility Operations\n",
    "These will be useful for finding which compounds to evalaute"
   ]
  },
  {
   "cell_type": "code",
   "execution_count": 3,
   "metadata": {
    "collapsed": true
   },
   "outputs": [],
   "source": [
    "elem_re = re.compile('[A-Z][a-z]?')\n",
    "def get_elems(s):\n",
    "    return ''.join(sorted(set(elem_re.findall(s))))\n",
    "assert get_elems('AlFeFe2') == 'AlFe'"
   ]
  },
  {
   "cell_type": "code",
   "execution_count": 4,
   "metadata": {},
   "outputs": [
    {
     "name": "stdout",
     "output_type": "stream",
     "text": [
      "CPU times: user 30.8 s, sys: 273 ms, total: 31 s\n",
      "Wall time: 31.1 s\n"
     ]
    }
   ],
   "source": [
    "%%time\n",
    "for data in dl_predictions.values():\n",
    "    data['system'] = data['composition'].apply(get_elems)"
   ]
  },
  {
   "cell_type": "markdown",
   "metadata": {},
   "source": [
    "## Get the Single Most-Stable Entry per System\n",
    "Make the searches faster, yield a single entry per system"
   ]
  },
  {
   "cell_type": "code",
   "execution_count": 5,
   "metadata": {},
   "outputs": [
    {
     "name": "stdout",
     "output_type": "stream",
     "text": [
      "CPU times: user 3.56 s, sys: 381 ms, total: 3.94 s\n",
      "Wall time: 3.94 s\n"
     ]
    }
   ],
   "source": [
    "%%time\n",
    "def get_most_stable(data):\n",
    "    \"\"\"From a dataset, get only the most-stable entry\n",
    "    \n",
    "    :param data: DataFrame, most stable DL predictions\n",
    "    :return: DataFrame\"\"\"\n",
    "    \n",
    "    return data.sort_values('stability_predicted', ascending=True).drop_duplicates('system', keep='first')\n",
    "dl_best = dict((k,get_most_stable(v)) for k,v in dl_predictions.items())"
   ]
  },
  {
   "cell_type": "code",
   "execution_count": 6,
   "metadata": {},
   "outputs": [
    {
     "name": "stdout",
     "output_type": "stream",
     "text": [
      "binary 502\n",
      "ternary 22796\n",
      "quaternary 551340\n",
      "total 574638\n"
     ]
    }
   ],
   "source": [
    "for k,v in dl_best.items():\n",
    "    print(k, len(v))\n",
    "print('total', sum([len(v) for v in dl_best.values()]))"
   ]
  },
  {
   "cell_type": "markdown",
   "metadata": {},
   "source": [
    "Get pretty compositions to render"
   ]
  },
  {
   "cell_type": "code",
   "execution_count": 7,
   "metadata": {},
   "outputs": [
    {
     "name": "stderr",
     "output_type": "stream",
     "text": [
      "/home/wardlt/software/pymatgen/pymatgen/core/periodic_table.py:398: UserWarning: No electronegativity for Ne. Setting to infinity. This has no physical meaning, and is mainly done to avoid errors caused by the code expecting a float.\n",
      "  % self.symbol)\n",
      "/home/wardlt/software/pymatgen/pymatgen/core/periodic_table.py:398: UserWarning: No electronegativity for He. Setting to infinity. This has no physical meaning, and is mainly done to avoid errors caused by the code expecting a float.\n",
      "  % self.symbol)\n",
      "/home/wardlt/software/pymatgen/pymatgen/core/periodic_table.py:398: UserWarning: No electronegativity for Ar. Setting to infinity. This has no physical meaning, and is mainly done to avoid errors caused by the code expecting a float.\n",
      "  % self.symbol)\n"
     ]
    },
    {
     "name": "stdout",
     "output_type": "stream",
     "text": [
      "CPU times: user 1min 4s, sys: 53.4 ms, total: 1min 4s\n",
      "Wall time: 1min 4s\n"
     ]
    }
   ],
   "source": [
    "%%time\n",
    "for data in dl_best.values():\n",
    "    data['composition'] = data['comp_obj'].apply(lambda x: x.get_integer_formula_and_factor()[0])"
   ]
  },
  {
   "cell_type": "markdown",
   "metadata": {},
   "source": [
    "## Get Predictions for Different Sets\n",
    "This part of the notebook details picking different types of compounds "
   ]
  },
  {
   "cell_type": "markdown",
   "metadata": {},
   "source": [
    "### Defining Element Lists\n",
    "Useful when coming up with search spaces later"
   ]
  },
  {
   "cell_type": "code",
   "execution_count": 8,
   "metadata": {},
   "outputs": [],
   "source": [
    "noble_gases = ['He', 'Ne', 'Ar', 'Kr', 'Xe']\n",
    "alkali_metals = ['Li', 'Na', 'K'] # , 'Rb', 'Cs'] - Only do the common ones\n",
    "threed_tms = ['Sc', 'Ti', 'V', 'Cr', 'Mn', 'Fe', 'Co', 'Ni', 'Cu', 'Zn']\n",
    "actinides = ['Ac', 'Th', 'Pa', 'U', 'Np', 'Pu'] # VASP only has these\n",
    "lanthanides = set([Element.from_Z(x).symbol for x in range(57, 72)])\n",
    "chalcogens = ['O', 'S', 'Se', 'Te']\n",
    "pnictides = ['N', 'P', 'As', 'Sb']\n",
    "halogens = ['F', 'Cl', 'Br', 'I']\n",
    "tms = set([Element.from_Z(x).symbol for x in range(1,102) if Element.from_Z(x).is_transition_metal > 0])\n",
    "metals = tms.union({'Li','Na','K'}).union({'Al', 'Ga', 'In', 'Sn', 'Pb', 'Bi'})\n",
    "metals_no_highHHI = set([e for e in metals if HHIModel().get_hhi_production(e) is not None\n",
    "                         and  HHIModel().get_hhi_production(e) < 5000])"
   ]
  },
  {
   "cell_type": "markdown",
   "metadata": {},
   "source": [
    "Assemble a list of all elements found in our datasets"
   ]
  },
  {
   "cell_type": "code",
   "execution_count": 9,
   "metadata": {},
   "outputs": [
    {
     "name": "stdout",
     "output_type": "stream",
     "text": [
      "Number of elements: 89\n"
     ]
    }
   ],
   "source": [
    "element_list = set()\n",
    "dl_predictions['ternary']['composition'].apply(lambda x: element_list.update(elem_re.findall(x)))\n",
    "print('Number of elements:', len(element_list))"
   ]
  },
  {
   "cell_type": "markdown",
   "metadata": {},
   "source": [
    "Remove noble gases, lanthanides, and actinides"
   ]
  },
  {
   "cell_type": "code",
   "execution_count": 10,
   "metadata": {},
   "outputs": [
    {
     "name": "stdout",
     "output_type": "stream",
     "text": [
      "Number of elements: 63\n"
     ]
    }
   ],
   "source": [
    "element_list.difference_update(noble_gases)\n",
    "element_list.difference_update(actinides)\n",
    "element_list.difference_update(lanthanides)\n",
    "print('Number of elements:', len(element_list))"
   ]
  },
  {
   "cell_type": "markdown",
   "metadata": {},
   "source": [
    "### Scanning different sets"
   ]
  },
  {
   "cell_type": "code",
   "execution_count": 11,
   "metadata": {},
   "outputs": [
    {
     "name": "stdout",
     "output_type": "stream",
     "text": [
      "Generated 1953 binary systems\n"
     ]
    }
   ],
   "source": [
    "def assemble_list_of_systems(order):\n",
    "    \"\"\"Create a DataFrame of all possible systems with a certain number of elements\"\"\"\n",
    "    output = pd.DataFrame()\n",
    "    output['elements'] = list(itertools.combinations(element_list, order))\n",
    "    output['system'] = [''.join(sorted(s)) for s in output['elements']]\n",
    "    return output\n",
    "binary_systems = assemble_list_of_systems(2)\n",
    "print('Generated %d binary systems'%len(binary_systems))"
   ]
  },
  {
   "cell_type": "code",
   "execution_count": 12,
   "metadata": {},
   "outputs": [
    {
     "name": "stdout",
     "output_type": "stream",
     "text": [
      "Generated 39711 ternary systems\n"
     ]
    }
   ],
   "source": [
    "ternary_systems = assemble_list_of_systems(3)\n",
    "print('Generated %d ternary systems'%len(ternary_systems))"
   ]
  },
  {
   "cell_type": "code",
   "execution_count": 13,
   "metadata": {},
   "outputs": [
    {
     "name": "stdout",
     "output_type": "stream",
     "text": [
      "Generated 595665 quaternary systems\n"
     ]
    }
   ],
   "source": [
    "quaternary_systems = assemble_list_of_systems(4)\n",
    "print('Generated %d quaternary systems'%len(quaternary_systems))"
   ]
  },
  {
   "cell_type": "markdown",
   "metadata": {},
   "source": [
    "Get the ternary systems that contain an common Alkali metal"
   ]
  },
  {
   "cell_type": "code",
   "execution_count": 14,
   "metadata": {},
   "outputs": [],
   "source": [
    "def run_filter(f, systems, compounds, ntop=2):\n",
    "    \"\"\"Find the number of \"best compounds in that pass a certain filter\n",
    "    \n",
    "    :param f: func, fitler to run on systems\n",
    "    :param systems: DataFrame, list of systems to be evaluated\n",
    "    :param compounds: DataFrame, list of compounds to screen\n",
    "    :param ntop: int, number of top compositions to select\"\"\"\n",
    "    possible_systems = set(systems[systems['elements'].apply(f)]['system'])\n",
    "    results = compounds[compounds['system'].apply(lambda x: x in possible_systems)]\n",
    "    print('Found %d matches. Top 2: %s'%(len(results), ' '.join([latexify(x) for x in results.head(2)['composition']])))"
   ]
  },
  {
   "cell_type": "markdown",
   "metadata": {},
   "source": [
    "#### [Li,K,Na]-Containing Compounds"
   ]
  },
  {
   "cell_type": "code",
   "execution_count": 15,
   "metadata": {
    "collapsed": true
   },
   "outputs": [],
   "source": [
    "f = lambda els: any([e in ['Li', 'Na', 'K'] for e in els])"
   ]
  },
  {
   "cell_type": "code",
   "execution_count": 16,
   "metadata": {},
   "outputs": [
    {
     "name": "stdout",
     "output_type": "stream",
     "text": [
      "Found 814 matches. Top 2: KSc$_{2}$Br$_{7}$ KHfBr$_{5}$\n",
      "Found 21375 matches. Top 2: CsNa$_{2}$CdF$_{4}$ Na$_{2}$CrPbF$_{5}$\n"
     ]
    }
   ],
   "source": [
    "run_filter(f, ternary_systems, dl_best['ternary'])\n",
    "run_filter(f, quaternary_systems, dl_best['quaternary'])"
   ]
  },
  {
   "cell_type": "markdown",
   "metadata": {},
   "source": [
    "#### [Li,K,Na]-Containing Ternaries w/o Halogen"
   ]
  },
  {
   "cell_type": "code",
   "execution_count": 17,
   "metadata": {},
   "outputs": [],
   "source": [
    "f = lambda els: any([e in ['Li', 'Na', 'K'] for e in els]) and not any([e in halogens for e in els])"
   ]
  },
  {
   "cell_type": "code",
   "execution_count": 18,
   "metadata": {},
   "outputs": [
    {
     "name": "stdout",
     "output_type": "stream",
     "text": [
      "Found 457 matches. Top 2: K$_{2}$W$_{2}$N$_{5}$ LiTi$_{4}$N$_{5}$\n",
      "Found 10959 matches. Top 2: Ba$_{3}$NaPtO$_{4}$ K$_{2}$P(WN$_{2}$)$_{2}$\n"
     ]
    }
   ],
   "source": [
    "run_filter(f, ternary_systems, dl_best['ternary'])\n",
    "run_filter(f, quaternary_systems, dl_best['quaternary'])"
   ]
  },
  {
   "cell_type": "markdown",
   "metadata": {},
   "source": [
    "#### Chalcohalides"
   ]
  },
  {
   "cell_type": "code",
   "execution_count": 19,
   "metadata": {
    "collapsed": true
   },
   "outputs": [],
   "source": [
    "f = lambda els: any([e in chalcogens for e in els]) and any([e in halogens for e in els])"
   ]
  },
  {
   "cell_type": "code",
   "execution_count": 20,
   "metadata": {},
   "outputs": [
    {
     "name": "stdout",
     "output_type": "stream",
     "text": [
      "Found 578 matches. Top 2: Sc$_{2}$SeBr$_{5}$ Sc$_{3}$SBr$_{6}$\n",
      "Found 18835 matches. Top 2: Sr$_{3}$Cu$_{2}$IO$_{4}$ Zr$_{6}$RhIO$_{2}$\n"
     ]
    }
   ],
   "source": [
    "run_filter(f, ternary_systems, dl_best['ternary'])\n",
    "run_filter(f, quaternary_systems, dl_best['quaternary'])"
   ]
  },
  {
   "cell_type": "markdown",
   "metadata": {},
   "source": [
    "#### Oxides"
   ]
  },
  {
   "cell_type": "code",
   "execution_count": 21,
   "metadata": {
    "collapsed": true
   },
   "outputs": [],
   "source": [
    "f = lambda els: any([e is 'O' for e in els])"
   ]
  },
  {
   "cell_type": "code",
   "execution_count": 22,
   "metadata": {},
   "outputs": [
    {
     "name": "stdout",
     "output_type": "stream",
     "text": [
      "Found 817 matches. Top 2: Hf$_{2}$Br$_{6}$O Sc$_{3}$Br$_{6}$O\n",
      "Found 19113 matches. Top 2: Sr$_{3}$Cu$_{2}$IO$_{4}$ Zr$_{6}$RhIO$_{2}$\n"
     ]
    }
   ],
   "source": [
    "run_filter(f, ternary_systems, dl_best['ternary'])\n",
    "run_filter(f, quaternary_systems, dl_best['quaternary'])"
   ]
  },
  {
   "cell_type": "markdown",
   "metadata": {},
   "source": [
    "#### Metal Oxides"
   ]
  },
  {
   "cell_type": "code",
   "execution_count": 23,
   "metadata": {
    "collapsed": true
   },
   "outputs": [],
   "source": [
    "f = lambda els: any([e is 'O' for e in els]) and sum([e in metals for e in els]) == (len(els) - 1)"
   ]
  },
  {
   "cell_type": "code",
   "execution_count": 24,
   "metadata": {},
   "outputs": [
    {
     "name": "stdout",
     "output_type": "stream",
     "text": [
      "Found 242 matches. Top 2: K$_{2}$OsO$_{5}$ AgRuO$_{3}$\n",
      "Found 3155 matches. Top 2: YAlV$_{2}$O$_{6}$ TiMnSnO$_{5}$\n"
     ]
    }
   ],
   "source": [
    "run_filter(f, ternary_systems, dl_best['ternary'])\n",
    "run_filter(f, quaternary_systems, dl_best['quaternary'])"
   ]
  },
  {
   "cell_type": "markdown",
   "metadata": {},
   "source": [
    "#### $3d$ Metal Oxides"
   ]
  },
  {
   "cell_type": "code",
   "execution_count": 25,
   "metadata": {
    "collapsed": true
   },
   "outputs": [],
   "source": [
    "f = lambda els: any([e is 'O' for e in els]) and sum([e in threed_tms for e in els]) == (len(els) - 1)"
   ]
  },
  {
   "cell_type": "code",
   "execution_count": 26,
   "metadata": {},
   "outputs": [
    {
     "name": "stdout",
     "output_type": "stream",
     "text": [
      "Found 8 matches. Top 2: TiCrO$_{3}$ TiMnO$_{3}$\n",
      "Found 4 matches. Top 2: Ti$_{2}$MnCrO$_{6}$ ScTiCr$_{2}$O$_{6}$\n"
     ]
    }
   ],
   "source": [
    "run_filter(f, ternary_systems, dl_best['ternary'])\n",
    "run_filter(f, quaternary_systems, dl_best['quaternary'])"
   ]
  },
  {
   "cell_type": "markdown",
   "metadata": {},
   "source": [
    "#### Intermetallics"
   ]
  },
  {
   "cell_type": "code",
   "execution_count": 27,
   "metadata": {
    "collapsed": true
   },
   "outputs": [],
   "source": [
    "f = lambda els: all([e in metals for e in els])"
   ]
  },
  {
   "cell_type": "code",
   "execution_count": 28,
   "metadata": {},
   "outputs": [
    {
     "name": "stdout",
     "output_type": "stream",
     "text": [
      "Found 152 matches. Top 2: HfAl$_{5}$Ir$_{3}$ YAl$_{4}$Ir$_{3}$\n",
      "Found 462 matches. Top 2: Sc$_{5}$NiSn$_{3}$Mo ZrAl$_{5}$OsRh\n"
     ]
    }
   ],
   "source": [
    "run_filter(f, ternary_systems, dl_best['ternary'])\n",
    "run_filter(f, quaternary_systems, dl_best['quaternary'])"
   ]
  },
  {
   "cell_type": "markdown",
   "metadata": {},
   "source": [
    "#### Intermetallics (No high HHI)"
   ]
  },
  {
   "cell_type": "code",
   "execution_count": 29,
   "metadata": {
    "collapsed": true
   },
   "outputs": [],
   "source": [
    "f = lambda els: all([e in metals_no_highHHI for e in els])"
   ]
  },
  {
   "cell_type": "code",
   "execution_count": 30,
   "metadata": {},
   "outputs": [
    {
     "name": "stdout",
     "output_type": "stream",
     "text": [
      "Found 23 matches. Top 2: TiAl$_{5}$Rh$_{4}$ ZrAl$_{5}$Rh$_{4}$\n",
      "Found 60 matches. Top 2: TiAl$_{5}$NiRh$_{3}$ Al$_{6}$CrCoRh$_{2}$\n"
     ]
    }
   ],
   "source": [
    "run_filter(f, ternary_systems, dl_best['ternary'])\n",
    "run_filter(f, quaternary_systems, dl_best['quaternary'])"
   ]
  },
  {
   "cell_type": "markdown",
   "metadata": {},
   "source": [
    "#### Ternary Intermetallics w/ at least 1 $3d$ metals"
   ]
  },
  {
   "cell_type": "code",
   "execution_count": 31,
   "metadata": {
    "collapsed": true
   },
   "outputs": [],
   "source": [
    "f =lambda els: all([e in metals_no_highHHI for e in els]) and sum([e in threed_tms for e in els]) > 1"
   ]
  },
  {
   "cell_type": "code",
   "execution_count": 32,
   "metadata": {},
   "outputs": [
    {
     "name": "stdout",
     "output_type": "stream",
     "text": [
      "Found 1 matches. Top 2: Ti$_{2}$In$_{3}$Ni$_{4}$\n",
      "Found 15 matches. Top 2: TiAl$_{5}$NiRh$_{3}$ Al$_{6}$CrCoRh$_{2}$\n"
     ]
    }
   ],
   "source": [
    "run_filter(f, ternary_systems, dl_best['ternary'])\n",
    "run_filter(f, quaternary_systems, dl_best['quaternary'])"
   ]
  },
  {
   "cell_type": "code",
   "execution_count": 33,
   "metadata": {
    "collapsed": true
   },
   "outputs": [],
   "source": []
  }
 ],
 "metadata": {
  "kernelspec": {
   "display_name": "Python 3",
   "language": "python",
   "name": "python3"
  },
  "language_info": {
   "codemirror_mode": {
    "name": "ipython",
    "version": 3
   },
   "file_extension": ".py",
   "mimetype": "text/x-python",
   "name": "python",
   "nbconvert_exporter": "python",
   "pygments_lexer": "ipython3",
   "version": "3.6.0"
  }
 },
 "nbformat": 4,
 "nbformat_minor": 2
}
