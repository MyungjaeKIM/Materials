{
 "cells": [
  {
   "cell_type": "markdown",
   "metadata": {},
   "source": [
    "# Measure Predicted Changes in Phase Diagrams\n",
    "Given a list of compounds that are predicted to be stable by Dipendra's DL model, measure changes in the phase diagrams."
   ]
  },
  {
   "cell_type": "code",
   "execution_count": 1,
   "metadata": {
    "collapsed": true
   },
   "outputs": [],
   "source": [
    "%matplotlib inline\n",
    "from pymatgen import Composition, Element\n",
    "from sklearn.cluster import AgglomerativeClustering\n",
    "from sklearn.model_selection import GridSearchCV\n",
    "from sklearn.metrics import silhouette_score\n",
    "import itertools\n",
    "import os\n",
    "import re\n",
    "import pandas as pd\n",
    "import numpy as np"
   ]
  },
  {
   "cell_type": "markdown",
   "metadata": {},
   "source": [
    "## Load in the Data\n",
    "Load in the deep learning predictions. "
   ]
  },
  {
   "cell_type": "code",
   "execution_count": 2,
   "metadata": {},
   "outputs": [
    {
     "name": "stdout",
     "output_type": "stream",
     "text": [
      "CPU times: user 8min 49s, sys: 3.39 s, total: 8min 53s\n",
      "Wall time: 8min 53s\n"
     ]
    }
   ],
   "source": [
    "%%time\n",
    "def load_DL_predictions(path):\n",
    "    \"\"\"Loads in the predictions from Dipendra, and renames the `delta_e` column to match the `oqmd_data`\n",
    "    \n",
    "    Also generates a `PDEntry` for each composition, and computes which system this entry is in\n",
    "    \"\"\"\n",
    "    output = pd.read_csv(path, sep=' ')\n",
    "    output.rename(columns={'delta_e_predicted': 'delta_e'}, inplace=True)\n",
    "    output['comp_obj'] = output['composition'].apply(lambda x: Composition(x))\n",
    "    return output\n",
    "dl_predictions = dict([(x, load_DL_predictions(os.path.join('new-datasets', '%s_stable-0.2.data.gz'%x)))\n",
    "     for x in ['binary', 'ternary', 'quaternary']\n",
    "     ])"
   ]
  },
  {
   "cell_type": "markdown",
   "metadata": {},
   "source": [
    "## Define Utility Operations\n",
    "These will be useful for finding which compounds to evalaute"
   ]
  },
  {
   "cell_type": "code",
   "execution_count": 3,
   "metadata": {},
   "outputs": [],
   "source": [
    "elem_re = re.compile('[A-Z][a-z]?')\n",
    "def get_elems(s):\n",
    "    return ''.join(sorted(set(elem_re.findall(s))))\n",
    "assert get_elems('AlFeFe2') == 'AlFe'"
   ]
  },
  {
   "cell_type": "code",
   "execution_count": 4,
   "metadata": {},
   "outputs": [
    {
     "name": "stdout",
     "output_type": "stream",
     "text": [
      "CPU times: user 31.7 s, sys: 302 ms, total: 32 s\n",
      "Wall time: 32 s\n"
     ]
    }
   ],
   "source": [
    "%%time\n",
    "for data in dl_predictions.values():\n",
    "    data['system'] = data['composition'].apply(get_elems)"
   ]
  },
  {
   "cell_type": "markdown",
   "metadata": {},
   "source": [
    "## Get the Single Most-Stable Entry per System\n",
    "Make the searches faster, yield a single entry per system"
   ]
  },
  {
   "cell_type": "code",
   "execution_count": 6,
   "metadata": {},
   "outputs": [
    {
     "name": "stdout",
     "output_type": "stream",
     "text": [
      "CPU times: user 5.27 s, sys: 362 ms, total: 5.63 s\n",
      "Wall time: 5.62 s\n"
     ]
    }
   ],
   "source": [
    "%%time\n",
    "def get_most_stable(data):\n",
    "    \"\"\"From a dataset, get only the most-stable entry\n",
    "    \n",
    "    :param data: DataFrame, most stable DL predictions\n",
    "    :return: DataFrame\"\"\"\n",
    "    \n",
    "    return data.sort_values('stability_predicted', ascending=True).drop_duplicates('system', keep='first')\n",
    "dl_best = dict((k,get_most_stable(v)) for k,v in dl_predictions.items())"
   ]
  },
  {
   "cell_type": "markdown",
   "metadata": {},
   "source": [
    "## Get Predictions for Different Sets\n",
    "This part of the notebook details picking different types of compounds "
   ]
  },
  {
   "cell_type": "markdown",
   "metadata": {},
   "source": [
    "### Defining Element Lists\n",
    "Useful when coming up with search spaces later"
   ]
  },
  {
   "cell_type": "code",
   "execution_count": 7,
   "metadata": {},
   "outputs": [],
   "source": [
    "noble_gases = ['He', 'Ne', 'Ar', 'Kr', 'Xe']\n",
    "alkali_metals = ['Li', 'Na', 'K'] # , 'Rb', 'Cs'] - Only do the common ones\n",
    "threed_tms = ['Sc', 'Ti', 'V', 'Cr', 'Mn', 'Fe', 'Co', 'Ni', 'Cu', 'Zn']\n",
    "actinides = ['Ac', 'Th', 'Pa', 'U', 'Np', 'Pu'] # VASP only has these\n",
    "lanthanides = set([Element.from_Z(x).symbol for x in range(57, 72)])\n",
    "chalcogens = ['O', 'S', 'Se', 'Te']\n",
    "pnictides = ['N', 'P', 'As', 'Sb']\n",
    "halogens = ['F', 'Cl', 'Br', 'I']\n",
    "tms = set([Element.from_Z(x).symbol for x in range(1,102) if Element.from_Z(x).is_transition_metal > 0])\n",
    "metals = tms.union({'Li','Na','K'}).union({'Al', 'Ga', 'In', 'Sn', 'Pb', 'Bi'})\n",
    "metals_no_ReOsIrSc = metals - {'Re', 'Os', 'Ir', 'Sc'}"
   ]
  },
  {
   "cell_type": "markdown",
   "metadata": {},
   "source": [
    "Assemble a list of all elements found in our datasets"
   ]
  },
  {
   "cell_type": "code",
   "execution_count": 10,
   "metadata": {},
   "outputs": [
    {
     "name": "stdout",
     "output_type": "stream",
     "text": [
      "Number of elements: 89\n"
     ]
    }
   ],
   "source": [
    "element_list = set()\n",
    "dl_predictions['ternary']['composition'].apply(lambda x: element_list.update(elem_re.findall(x)))\n",
    "print('Number of elements:', len(element_list))"
   ]
  },
  {
   "cell_type": "markdown",
   "metadata": {},
   "source": [
    "Remove noble gases, lanthanides, and actinides"
   ]
  },
  {
   "cell_type": "code",
   "execution_count": 11,
   "metadata": {},
   "outputs": [
    {
     "name": "stdout",
     "output_type": "stream",
     "text": [
      "Number of elements: 63\n"
     ]
    }
   ],
   "source": [
    "element_list.difference_update(noble_gases)\n",
    "element_list.difference_update(actinides)\n",
    "element_list.difference_update(lanthanides)\n",
    "print('Number of elements:', len(element_list))"
   ]
  },
  {
   "cell_type": "markdown",
   "metadata": {},
   "source": [
    "### Scanning different sets"
   ]
  },
  {
   "cell_type": "code",
   "execution_count": 12,
   "metadata": {},
   "outputs": [
    {
     "name": "stdout",
     "output_type": "stream",
     "text": [
      "Generated 1953 binary systems\n"
     ]
    }
   ],
   "source": [
    "def assemble_list_of_systems(order):\n",
    "    \"\"\"Create a DataFrame of all possible systems with a certain number of elements\"\"\"\n",
    "    output = pd.DataFrame()\n",
    "    output['elements'] = list(itertools.combinations(element_list, order))\n",
    "    output['system'] = [''.join(sorted(s)) for s in output['elements']]\n",
    "    return output\n",
    "binary_systems = assemble_list_of_systems(2)\n",
    "print('Generated %d binary systems'%len(binary_systems))"
   ]
  },
  {
   "cell_type": "code",
   "execution_count": 13,
   "metadata": {},
   "outputs": [
    {
     "name": "stdout",
     "output_type": "stream",
     "text": [
      "Generated 39711 ternary systems\n"
     ]
    }
   ],
   "source": [
    "ternary_systems = assemble_list_of_systems(3)\n",
    "print('Generated %d ternary systems'%len(ternary_systems))"
   ]
  },
  {
   "cell_type": "code",
   "execution_count": 14,
   "metadata": {},
   "outputs": [
    {
     "name": "stdout",
     "output_type": "stream",
     "text": [
      "Generated 595665 quaternary systems\n"
     ]
    }
   ],
   "source": [
    "quaternary_systems = assemble_list_of_systems(4)\n",
    "print('Generated %d quaternary systems'%len(quaternary_systems))"
   ]
  },
  {
   "cell_type": "markdown",
   "metadata": {},
   "source": [
    "Get the ternary systems that contain an common Alkali metal"
   ]
  },
  {
   "cell_type": "markdown",
   "metadata": {},
   "source": [
    "#### [Li,K,Na]-Containing Compounds"
   ]
  },
  {
   "cell_type": "code",
   "execution_count": 15,
   "metadata": {},
   "outputs": [],
   "source": [
    "f = lambda els: any([e in ['Li', 'Na', 'K'] for e in els])"
   ]
  },
  {
   "cell_type": "code",
   "execution_count": 16,
   "metadata": {},
   "outputs": [
    {
     "name": "stdout",
     "output_type": "stream",
     "text": [
      "Found 4070 matches. Top 2:\n"
     ]
    },
    {
     "data": {
      "text/html": [
       "<div>\n",
       "<table border=\"1\" class=\"dataframe\">\n",
       "  <thead>\n",
       "    <tr style=\"text-align: right;\">\n",
       "      <th></th>\n",
       "      <th>composition</th>\n",
       "      <th>delta_e</th>\n",
       "      <th>stability_predicted</th>\n",
       "      <th>comp_obj</th>\n",
       "      <th>system</th>\n",
       "    </tr>\n",
       "  </thead>\n",
       "  <tbody>\n",
       "    <tr>\n",
       "      <th>20039</th>\n",
       "      <td>K0.1Sc0.2Br0.7</td>\n",
       "      <td>-1.884</td>\n",
       "      <td>-1.134187</td>\n",
       "      <td>(K, Sc, Br)</td>\n",
       "      <td>BrKSc</td>\n",
       "    </tr>\n",
       "    <tr>\n",
       "      <th>22562</th>\n",
       "      <td>K0.142857Br0.714286Hf0.142857</td>\n",
       "      <td>-1.732</td>\n",
       "      <td>-1.090053</td>\n",
       "      <td>(K, Br, Hf)</td>\n",
       "      <td>BrHfK</td>\n",
       "    </tr>\n",
       "  </tbody>\n",
       "</table>\n",
       "</div>"
      ],
      "text/plain": [
       "                         composition  delta_e  stability_predicted  \\\n",
       "20039                 K0.1Sc0.2Br0.7   -1.884            -1.134187   \n",
       "22562  K0.142857Br0.714286Hf0.142857   -1.732            -1.090053   \n",
       "\n",
       "          comp_obj system  \n",
       "20039  (K, Sc, Br)  BrKSc  \n",
       "22562  (K, Br, Hf)  BrHfK  "
      ]
     },
     "execution_count": 16,
     "metadata": {},
     "output_type": "execute_result"
    }
   ],
   "source": [
    "possible_systems = set(ternary_systems[ternary_systems['elements'].apply(f)]['system'])\n",
    "results = dl_best['ternary'][dl_best['ternary']['system'].apply(lambda x: x in possible_systems)]\n",
    "print('Found %d matches. Top 2:'%results.size)\n",
    "results.head(2)"
   ]
  },
  {
   "cell_type": "code",
   "execution_count": 17,
   "metadata": {},
   "outputs": [
    {
     "name": "stdout",
     "output_type": "stream",
     "text": [
      "Found 106875 matches. Top 2:\n"
     ]
    },
    {
     "data": {
      "text/html": [
       "<div>\n",
       "<table border=\"1\" class=\"dataframe\">\n",
       "  <thead>\n",
       "    <tr style=\"text-align: right;\">\n",
       "      <th></th>\n",
       "      <th>composition</th>\n",
       "      <th>delta_e</th>\n",
       "      <th>stability_predicted</th>\n",
       "      <th>comp_obj</th>\n",
       "      <th>system</th>\n",
       "    </tr>\n",
       "  </thead>\n",
       "  <tbody>\n",
       "    <tr>\n",
       "      <th>78799</th>\n",
       "      <td>F0.5Na0.25Cd0.125Cs0.125</td>\n",
       "      <td>-4.062</td>\n",
       "      <td>-1.380258</td>\n",
       "      <td>(F, Na, Cd, Cs)</td>\n",
       "      <td>CdCsFNa</td>\n",
       "    </tr>\n",
       "    <tr>\n",
       "      <th>85547</th>\n",
       "      <td>F0.555556Na0.222222Cr0.111111Pb0.111111</td>\n",
       "      <td>-4.010</td>\n",
       "      <td>-1.359743</td>\n",
       "      <td>(F, Na, Cr, Pb)</td>\n",
       "      <td>CrFNaPb</td>\n",
       "    </tr>\n",
       "  </tbody>\n",
       "</table>\n",
       "</div>"
      ],
      "text/plain": [
       "                                   composition  delta_e  stability_predicted  \\\n",
       "78799                 F0.5Na0.25Cd0.125Cs0.125   -4.062            -1.380258   \n",
       "85547  F0.555556Na0.222222Cr0.111111Pb0.111111   -4.010            -1.359743   \n",
       "\n",
       "              comp_obj   system  \n",
       "78799  (F, Na, Cd, Cs)  CdCsFNa  \n",
       "85547  (F, Na, Cr, Pb)  CrFNaPb  "
      ]
     },
     "execution_count": 17,
     "metadata": {},
     "output_type": "execute_result"
    }
   ],
   "source": [
    "possible_systems = set(quaternary_systems[quaternary_systems['elements'].apply(f)]['system'])\n",
    "results = dl_best['quaternary'][dl_best['quaternary']['system'].apply(lambda x: x in possible_systems)]\n",
    "print('Found %d matches. Top 2:'%results.size)\n",
    "results.head(2)"
   ]
  },
  {
   "cell_type": "markdown",
   "metadata": {},
   "source": [
    "#### [Li,K,Na]-Containing Ternaries w/o Halogen"
   ]
  },
  {
   "cell_type": "code",
   "execution_count": 18,
   "metadata": {},
   "outputs": [
    {
     "name": "stdout",
     "output_type": "stream",
     "text": [
      "CPU times: user 4 µs, sys: 0 ns, total: 4 µs\n",
      "Wall time: 7.15 µs\n"
     ]
    }
   ],
   "source": [
    "%%time\n",
    "f = lambda els: any([e in ['Li', 'Na', 'K'] for e in els]) and not any([e in halogens for e in els])"
   ]
  },
  {
   "cell_type": "code",
   "execution_count": 19,
   "metadata": {},
   "outputs": [
    {
     "name": "stdout",
     "output_type": "stream",
     "text": [
      "Found 2285 matches. Top 2:\n"
     ]
    },
    {
     "data": {
      "text/html": [
       "<div>\n",
       "<table border=\"1\" class=\"dataframe\">\n",
       "  <thead>\n",
       "    <tr style=\"text-align: right;\">\n",
       "      <th></th>\n",
       "      <th>composition</th>\n",
       "      <th>delta_e</th>\n",
       "      <th>stability_predicted</th>\n",
       "      <th>comp_obj</th>\n",
       "      <th>system</th>\n",
       "    </tr>\n",
       "  </thead>\n",
       "  <tbody>\n",
       "    <tr>\n",
       "      <th>57605</th>\n",
       "      <td>N0.555556K0.222222W0.222222</td>\n",
       "      <td>-0.953</td>\n",
       "      <td>-0.734049</td>\n",
       "      <td>(N, K, W)</td>\n",
       "      <td>KNW</td>\n",
       "    </tr>\n",
       "    <tr>\n",
       "      <th>74602</th>\n",
       "      <td>Li0.1N0.5Ti0.4</td>\n",
       "      <td>-1.767</td>\n",
       "      <td>-0.633168</td>\n",
       "      <td>(Li, N, Ti)</td>\n",
       "      <td>LiNTi</td>\n",
       "    </tr>\n",
       "  </tbody>\n",
       "</table>\n",
       "</div>"
      ],
      "text/plain": [
       "                       composition  delta_e  stability_predicted     comp_obj  \\\n",
       "57605  N0.555556K0.222222W0.222222   -0.953            -0.734049    (N, K, W)   \n",
       "74602               Li0.1N0.5Ti0.4   -1.767            -0.633168  (Li, N, Ti)   \n",
       "\n",
       "      system  \n",
       "57605    KNW  \n",
       "74602  LiNTi  "
      ]
     },
     "execution_count": 19,
     "metadata": {},
     "output_type": "execute_result"
    }
   ],
   "source": [
    "possible_systems = set(ternary_systems[ternary_systems['elements'].apply(f)]['system'])\n",
    "results = dl_best['ternary'][dl_best['ternary']['system'].apply(lambda x: x in possible_systems)]\n",
    "print('Found %d matches. Top 2:'%results.size)\n",
    "results.head(2)"
   ]
  },
  {
   "cell_type": "code",
   "execution_count": 20,
   "metadata": {},
   "outputs": [
    {
     "name": "stdout",
     "output_type": "stream",
     "text": [
      "Found 54795 matches. Top 2:\n"
     ]
    },
    {
     "data": {
      "text/html": [
       "<div>\n",
       "<table border=\"1\" class=\"dataframe\">\n",
       "  <thead>\n",
       "    <tr style=\"text-align: right;\">\n",
       "      <th></th>\n",
       "      <th>composition</th>\n",
       "      <th>delta_e</th>\n",
       "      <th>stability_predicted</th>\n",
       "      <th>comp_obj</th>\n",
       "      <th>system</th>\n",
       "    </tr>\n",
       "  </thead>\n",
       "  <tbody>\n",
       "    <tr>\n",
       "      <th>257943</th>\n",
       "      <td>O0.444444Na0.111111Ba0.333333Pt0.111111</td>\n",
       "      <td>-3.218</td>\n",
       "      <td>-1.070698</td>\n",
       "      <td>(O, Na, Ba, Pt)</td>\n",
       "      <td>BaNaOPt</td>\n",
       "    </tr>\n",
       "    <tr>\n",
       "      <th>546409</th>\n",
       "      <td>N0.444444P0.111111K0.222222W0.222222</td>\n",
       "      <td>-1.202</td>\n",
       "      <td>-0.883226</td>\n",
       "      <td>(N, P, K, W)</td>\n",
       "      <td>KNPW</td>\n",
       "    </tr>\n",
       "  </tbody>\n",
       "</table>\n",
       "</div>"
      ],
      "text/plain": [
       "                                    composition  delta_e  stability_predicted  \\\n",
       "257943  O0.444444Na0.111111Ba0.333333Pt0.111111   -3.218            -1.070698   \n",
       "546409     N0.444444P0.111111K0.222222W0.222222   -1.202            -0.883226   \n",
       "\n",
       "               comp_obj   system  \n",
       "257943  (O, Na, Ba, Pt)  BaNaOPt  \n",
       "546409     (N, P, K, W)     KNPW  "
      ]
     },
     "execution_count": 20,
     "metadata": {},
     "output_type": "execute_result"
    }
   ],
   "source": [
    "possible_systems = set(quaternary_systems[quaternary_systems['elements'].apply(f)]['system'])\n",
    "results = dl_best['quaternary'][dl_best['quaternary']['system'].apply(lambda x: x in possible_systems)]\n",
    "print('Found %d matches. Top 2:'%results.size)\n",
    "results.head(2)"
   ]
  },
  {
   "cell_type": "markdown",
   "metadata": {},
   "source": [
    "#### Chalcohalides"
   ]
  },
  {
   "cell_type": "code",
   "execution_count": 21,
   "metadata": {},
   "outputs": [],
   "source": [
    "f = lambda els: any([e in chalcogens for e in els]) and any([e in halogens for e in els])"
   ]
  },
  {
   "cell_type": "code",
   "execution_count": 22,
   "metadata": {},
   "outputs": [
    {
     "name": "stdout",
     "output_type": "stream",
     "text": [
      "Found 2890 matches. Top 2:\n"
     ]
    },
    {
     "data": {
      "text/html": [
       "<div>\n",
       "<table border=\"1\" class=\"dataframe\">\n",
       "  <thead>\n",
       "    <tr style=\"text-align: right;\">\n",
       "      <th></th>\n",
       "      <th>composition</th>\n",
       "      <th>delta_e</th>\n",
       "      <th>stability_predicted</th>\n",
       "      <th>comp_obj</th>\n",
       "      <th>system</th>\n",
       "    </tr>\n",
       "  </thead>\n",
       "  <tbody>\n",
       "    <tr>\n",
       "      <th>15379</th>\n",
       "      <td>Sc0.25Se0.125Br0.625</td>\n",
       "      <td>-1.866</td>\n",
       "      <td>-1.239871</td>\n",
       "      <td>(Sc, Se, Br)</td>\n",
       "      <td>BrScSe</td>\n",
       "    </tr>\n",
       "    <tr>\n",
       "      <th>15731</th>\n",
       "      <td>S0.1Sc0.3Br0.6</td>\n",
       "      <td>-2.004</td>\n",
       "      <td>-1.230478</td>\n",
       "      <td>(S, Sc, Br)</td>\n",
       "      <td>BrSSc</td>\n",
       "    </tr>\n",
       "  </tbody>\n",
       "</table>\n",
       "</div>"
      ],
      "text/plain": [
       "                composition  delta_e  stability_predicted      comp_obj  \\\n",
       "15379  Sc0.25Se0.125Br0.625   -1.866            -1.239871  (Sc, Se, Br)   \n",
       "15731        S0.1Sc0.3Br0.6   -2.004            -1.230478   (S, Sc, Br)   \n",
       "\n",
       "       system  \n",
       "15379  BrScSe  \n",
       "15731   BrSSc  "
      ]
     },
     "execution_count": 22,
     "metadata": {},
     "output_type": "execute_result"
    }
   ],
   "source": [
    "possible_systems = set(ternary_systems[ternary_systems['elements'].apply(f)]['system'])\n",
    "results = dl_best['ternary'][dl_best['ternary']['system'].apply(lambda x: x in possible_systems)]\n",
    "print('Found %d matches. Top 2:'%results.size)\n",
    "results.head(2)"
   ]
  },
  {
   "cell_type": "code",
   "execution_count": 23,
   "metadata": {},
   "outputs": [
    {
     "name": "stdout",
     "output_type": "stream",
     "text": [
      "Found 94175 matches. Top 2:\n"
     ]
    },
    {
     "data": {
      "text/html": [
       "<div>\n",
       "<table border=\"1\" class=\"dataframe\">\n",
       "  <thead>\n",
       "    <tr style=\"text-align: right;\">\n",
       "      <th></th>\n",
       "      <th>composition</th>\n",
       "      <th>delta_e</th>\n",
       "      <th>stability_predicted</th>\n",
       "      <th>comp_obj</th>\n",
       "      <th>system</th>\n",
       "    </tr>\n",
       "  </thead>\n",
       "  <tbody>\n",
       "    <tr>\n",
       "      <th>785</th>\n",
       "      <td>O0.4Cu0.2Sr0.3I0.1</td>\n",
       "      <td>-4.640</td>\n",
       "      <td>-2.570981</td>\n",
       "      <td>(O, Cu, Sr, I)</td>\n",
       "      <td>CuIOSr</td>\n",
       "    </tr>\n",
       "    <tr>\n",
       "      <th>61980</th>\n",
       "      <td>O0.2Zr0.6Rh0.1I0.1</td>\n",
       "      <td>-2.906</td>\n",
       "      <td>-1.439151</td>\n",
       "      <td>(O, Zr, Rh, I)</td>\n",
       "      <td>IORhZr</td>\n",
       "    </tr>\n",
       "  </tbody>\n",
       "</table>\n",
       "</div>"
      ],
      "text/plain": [
       "              composition  delta_e  stability_predicted        comp_obj  \\\n",
       "785    O0.4Cu0.2Sr0.3I0.1   -4.640            -2.570981  (O, Cu, Sr, I)   \n",
       "61980  O0.2Zr0.6Rh0.1I0.1   -2.906            -1.439151  (O, Zr, Rh, I)   \n",
       "\n",
       "       system  \n",
       "785    CuIOSr  \n",
       "61980  IORhZr  "
      ]
     },
     "execution_count": 23,
     "metadata": {},
     "output_type": "execute_result"
    }
   ],
   "source": [
    "possible_systems = set(quaternary_systems[quaternary_systems['elements'].apply(f)]['system'])\n",
    "results = dl_best['quaternary'][dl_best['quaternary']['system'].apply(lambda x: x in possible_systems)]\n",
    "print('Found %d matches. Top 2:'%results.size)\n",
    "results.head(2)"
   ]
  },
  {
   "cell_type": "markdown",
   "metadata": {},
   "source": [
    "#### Oxides"
   ]
  },
  {
   "cell_type": "code",
   "execution_count": 24,
   "metadata": {},
   "outputs": [],
   "source": [
    "f = lambda els: any([e is 'O' for e in els])"
   ]
  },
  {
   "cell_type": "code",
   "execution_count": 25,
   "metadata": {},
   "outputs": [
    {
     "name": "stdout",
     "output_type": "stream",
     "text": [
      "Found 4085 matches. Top 2:\n"
     ]
    },
    {
     "data": {
      "text/html": [
       "<div>\n",
       "<table border=\"1\" class=\"dataframe\">\n",
       "  <thead>\n",
       "    <tr style=\"text-align: right;\">\n",
       "      <th></th>\n",
       "      <th>composition</th>\n",
       "      <th>delta_e</th>\n",
       "      <th>stability_predicted</th>\n",
       "      <th>comp_obj</th>\n",
       "      <th>system</th>\n",
       "    </tr>\n",
       "  </thead>\n",
       "  <tbody>\n",
       "    <tr>\n",
       "      <th>23032</th>\n",
       "      <td>O0.111111Br0.666667Hf0.222222</td>\n",
       "      <td>-1.829</td>\n",
       "      <td>-1.082888</td>\n",
       "      <td>(O, Br, Hf)</td>\n",
       "      <td>BrHfO</td>\n",
       "    </tr>\n",
       "    <tr>\n",
       "      <th>28616</th>\n",
       "      <td>O0.1Sc0.3Br0.6</td>\n",
       "      <td>-2.273</td>\n",
       "      <td>-0.999341</td>\n",
       "      <td>(O, Sc, Br)</td>\n",
       "      <td>BrOSc</td>\n",
       "    </tr>\n",
       "  </tbody>\n",
       "</table>\n",
       "</div>"
      ],
      "text/plain": [
       "                         composition  delta_e  stability_predicted  \\\n",
       "23032  O0.111111Br0.666667Hf0.222222   -1.829            -1.082888   \n",
       "28616                 O0.1Sc0.3Br0.6   -2.273            -0.999341   \n",
       "\n",
       "          comp_obj system  \n",
       "23032  (O, Br, Hf)  BrHfO  \n",
       "28616  (O, Sc, Br)  BrOSc  "
      ]
     },
     "execution_count": 25,
     "metadata": {},
     "output_type": "execute_result"
    }
   ],
   "source": [
    "possible_systems = set(ternary_systems[ternary_systems['elements'].apply(f)]['system'])\n",
    "results = dl_best['ternary'][dl_best['ternary']['system'].apply(lambda x: x in possible_systems)]\n",
    "print('Found %d matches. Top 2:'%results.size)\n",
    "results.head(2)"
   ]
  },
  {
   "cell_type": "code",
   "execution_count": 26,
   "metadata": {},
   "outputs": [
    {
     "name": "stdout",
     "output_type": "stream",
     "text": [
      "Found 95565 matches. Top 2:\n"
     ]
    },
    {
     "data": {
      "text/html": [
       "<div>\n",
       "<table border=\"1\" class=\"dataframe\">\n",
       "  <thead>\n",
       "    <tr style=\"text-align: right;\">\n",
       "      <th></th>\n",
       "      <th>composition</th>\n",
       "      <th>delta_e</th>\n",
       "      <th>stability_predicted</th>\n",
       "      <th>comp_obj</th>\n",
       "      <th>system</th>\n",
       "    </tr>\n",
       "  </thead>\n",
       "  <tbody>\n",
       "    <tr>\n",
       "      <th>785</th>\n",
       "      <td>O0.4Cu0.2Sr0.3I0.1</td>\n",
       "      <td>-4.640</td>\n",
       "      <td>-2.570981</td>\n",
       "      <td>(O, Cu, Sr, I)</td>\n",
       "      <td>CuIOSr</td>\n",
       "    </tr>\n",
       "    <tr>\n",
       "      <th>61980</th>\n",
       "      <td>O0.2Zr0.6Rh0.1I0.1</td>\n",
       "      <td>-2.906</td>\n",
       "      <td>-1.439151</td>\n",
       "      <td>(O, Zr, Rh, I)</td>\n",
       "      <td>IORhZr</td>\n",
       "    </tr>\n",
       "  </tbody>\n",
       "</table>\n",
       "</div>"
      ],
      "text/plain": [
       "              composition  delta_e  stability_predicted        comp_obj  \\\n",
       "785    O0.4Cu0.2Sr0.3I0.1   -4.640            -2.570981  (O, Cu, Sr, I)   \n",
       "61980  O0.2Zr0.6Rh0.1I0.1   -2.906            -1.439151  (O, Zr, Rh, I)   \n",
       "\n",
       "       system  \n",
       "785    CuIOSr  \n",
       "61980  IORhZr  "
      ]
     },
     "execution_count": 26,
     "metadata": {},
     "output_type": "execute_result"
    }
   ],
   "source": [
    "possible_systems = set(quaternary_systems[quaternary_systems['elements'].apply(f)]['system'])\n",
    "results = dl_best['quaternary'][dl_best['quaternary']['system'].apply(lambda x: x in possible_systems)]\n",
    "print('Found %d matches. Top 2:'%results.size)\n",
    "results.head(2)"
   ]
  },
  {
   "cell_type": "markdown",
   "metadata": {},
   "source": [
    "#### Metal Oxides"
   ]
  },
  {
   "cell_type": "code",
   "execution_count": 27,
   "metadata": {
    "collapsed": true
   },
   "outputs": [],
   "source": [
    "f = lambda els: any([e is 'O' for e in els]) and sum([e in metals for e in els]) == (len(els) - 1)"
   ]
  },
  {
   "cell_type": "code",
   "execution_count": 28,
   "metadata": {},
   "outputs": [
    {
     "name": "stdout",
     "output_type": "stream",
     "text": [
      "Found 1210 matches. Top 2:\n"
     ]
    },
    {
     "data": {
      "text/html": [
       "<div>\n",
       "<table border=\"1\" class=\"dataframe\">\n",
       "  <thead>\n",
       "    <tr style=\"text-align: right;\">\n",
       "      <th></th>\n",
       "      <th>composition</th>\n",
       "      <th>delta_e</th>\n",
       "      <th>stability_predicted</th>\n",
       "      <th>comp_obj</th>\n",
       "      <th>system</th>\n",
       "    </tr>\n",
       "  </thead>\n",
       "  <tbody>\n",
       "    <tr>\n",
       "      <th>88789</th>\n",
       "      <td>O0.625K0.25Os0.125</td>\n",
       "      <td>-1.910</td>\n",
       "      <td>-0.563250</td>\n",
       "      <td>(O, K, Os)</td>\n",
       "      <td>KOOs</td>\n",
       "    </tr>\n",
       "    <tr>\n",
       "      <th>90416</th>\n",
       "      <td>O0.6Ru0.2Ag0.2</td>\n",
       "      <td>-1.422</td>\n",
       "      <td>-0.556339</td>\n",
       "      <td>(O, Ru, Ag)</td>\n",
       "      <td>AgORu</td>\n",
       "    </tr>\n",
       "  </tbody>\n",
       "</table>\n",
       "</div>"
      ],
      "text/plain": [
       "              composition  delta_e  stability_predicted     comp_obj system\n",
       "88789  O0.625K0.25Os0.125   -1.910            -0.563250   (O, K, Os)   KOOs\n",
       "90416      O0.6Ru0.2Ag0.2   -1.422            -0.556339  (O, Ru, Ag)  AgORu"
      ]
     },
     "execution_count": 28,
     "metadata": {},
     "output_type": "execute_result"
    }
   ],
   "source": [
    "possible_systems = set(ternary_systems[ternary_systems['elements'].apply(f)]['system'])\n",
    "results = dl_best['ternary'][dl_best['ternary']['system'].apply(lambda x: x in possible_systems)]\n",
    "print('Found %d matches. Top 2:'%results.size)\n",
    "results.head(2)"
   ]
  },
  {
   "cell_type": "code",
   "execution_count": 29,
   "metadata": {},
   "outputs": [
    {
     "name": "stdout",
     "output_type": "stream",
     "text": [
      "Found 15775 matches. Top 2:\n"
     ]
    },
    {
     "data": {
      "text/html": [
       "<div>\n",
       "<table border=\"1\" class=\"dataframe\">\n",
       "  <thead>\n",
       "    <tr style=\"text-align: right;\">\n",
       "      <th></th>\n",
       "      <th>composition</th>\n",
       "      <th>delta_e</th>\n",
       "      <th>stability_predicted</th>\n",
       "      <th>comp_obj</th>\n",
       "      <th>system</th>\n",
       "    </tr>\n",
       "  </thead>\n",
       "  <tbody>\n",
       "    <tr>\n",
       "      <th>676396</th>\n",
       "      <td>O0.6Al0.1V0.2Y0.1</td>\n",
       "      <td>-3.931</td>\n",
       "      <td>-0.832039</td>\n",
       "      <td>(O, Al, V, Y)</td>\n",
       "      <td>AlOVY</td>\n",
       "    </tr>\n",
       "    <tr>\n",
       "      <th>963203</th>\n",
       "      <td>O0.625Ti0.125Mn0.125Sn0.125</td>\n",
       "      <td>-3.254</td>\n",
       "      <td>-0.748019</td>\n",
       "      <td>(O, Ti, Mn, Sn)</td>\n",
       "      <td>MnOSnTi</td>\n",
       "    </tr>\n",
       "  </tbody>\n",
       "</table>\n",
       "</div>"
      ],
      "text/plain": [
       "                        composition  delta_e  stability_predicted  \\\n",
       "676396            O0.6Al0.1V0.2Y0.1   -3.931            -0.832039   \n",
       "963203  O0.625Ti0.125Mn0.125Sn0.125   -3.254            -0.748019   \n",
       "\n",
       "               comp_obj   system  \n",
       "676396    (O, Al, V, Y)    AlOVY  \n",
       "963203  (O, Ti, Mn, Sn)  MnOSnTi  "
      ]
     },
     "execution_count": 29,
     "metadata": {},
     "output_type": "execute_result"
    }
   ],
   "source": [
    "possible_systems = set(quaternary_systems[quaternary_systems['elements'].apply(f)]['system'])\n",
    "results = dl_best['quaternary'][dl_best['quaternary']['system'].apply(lambda x: x in possible_systems)]\n",
    "print('Found %d matches. Top 2:'%results.size)\n",
    "results.head(2)"
   ]
  },
  {
   "cell_type": "markdown",
   "metadata": {},
   "source": [
    "#### $3d$ Metal Oxides"
   ]
  },
  {
   "cell_type": "code",
   "execution_count": 30,
   "metadata": {
    "collapsed": true
   },
   "outputs": [],
   "source": [
    "f = lambda els: any([e is 'O' for e in els]) and sum([e in threed_tms for e in els]) == (len(els) - 1)"
   ]
  },
  {
   "cell_type": "code",
   "execution_count": 31,
   "metadata": {},
   "outputs": [
    {
     "name": "stdout",
     "output_type": "stream",
     "text": [
      "Found 40 matches. Top 2:\n"
     ]
    },
    {
     "data": {
      "text/html": [
       "<div>\n",
       "<table border=\"1\" class=\"dataframe\">\n",
       "  <thead>\n",
       "    <tr style=\"text-align: right;\">\n",
       "      <th></th>\n",
       "      <th>composition</th>\n",
       "      <th>delta_e</th>\n",
       "      <th>stability_predicted</th>\n",
       "      <th>comp_obj</th>\n",
       "      <th>system</th>\n",
       "    </tr>\n",
       "  </thead>\n",
       "  <tbody>\n",
       "    <tr>\n",
       "      <th>182864</th>\n",
       "      <td>O0.6Ti0.2Cr0.2</td>\n",
       "      <td>-3.133</td>\n",
       "      <td>-0.328112</td>\n",
       "      <td>(O, Ti, Cr)</td>\n",
       "      <td>CrOTi</td>\n",
       "    </tr>\n",
       "    <tr>\n",
       "      <th>211008</th>\n",
       "      <td>O0.6Ti0.2Mn0.2</td>\n",
       "      <td>-3.129</td>\n",
       "      <td>-0.291521</td>\n",
       "      <td>(O, Ti, Mn)</td>\n",
       "      <td>MnOTi</td>\n",
       "    </tr>\n",
       "  </tbody>\n",
       "</table>\n",
       "</div>"
      ],
      "text/plain": [
       "           composition  delta_e  stability_predicted     comp_obj system\n",
       "182864  O0.6Ti0.2Cr0.2   -3.133            -0.328112  (O, Ti, Cr)  CrOTi\n",
       "211008  O0.6Ti0.2Mn0.2   -3.129            -0.291521  (O, Ti, Mn)  MnOTi"
      ]
     },
     "execution_count": 31,
     "metadata": {},
     "output_type": "execute_result"
    }
   ],
   "source": [
    "possible_systems = set(ternary_systems[ternary_systems['elements'].apply(f)]['system'])\n",
    "results = dl_best['ternary'][dl_best['ternary']['system'].apply(lambda x: x in possible_systems)]\n",
    "print('Found %d matches. Top 2:'%results.size)\n",
    "results.head(2)"
   ]
  },
  {
   "cell_type": "code",
   "execution_count": 32,
   "metadata": {},
   "outputs": [
    {
     "name": "stdout",
     "output_type": "stream",
     "text": [
      "Found 20 matches. Top 2:\n"
     ]
    },
    {
     "data": {
      "text/html": [
       "<div>\n",
       "<table border=\"1\" class=\"dataframe\">\n",
       "  <thead>\n",
       "    <tr style=\"text-align: right;\">\n",
       "      <th></th>\n",
       "      <th>composition</th>\n",
       "      <th>delta_e</th>\n",
       "      <th>stability_predicted</th>\n",
       "      <th>comp_obj</th>\n",
       "      <th>system</th>\n",
       "    </tr>\n",
       "  </thead>\n",
       "  <tbody>\n",
       "    <tr>\n",
       "      <th>8249303</th>\n",
       "      <td>O0.6Ti0.2Cr0.1Mn0.1</td>\n",
       "      <td>-3.087</td>\n",
       "      <td>-0.250896</td>\n",
       "      <td>(O, Ti, Cr, Mn)</td>\n",
       "      <td>CrMnOTi</td>\n",
       "    </tr>\n",
       "    <tr>\n",
       "      <th>8320390</th>\n",
       "      <td>O0.6Sc0.1Ti0.1Cr0.2</td>\n",
       "      <td>-3.224</td>\n",
       "      <td>-0.249277</td>\n",
       "      <td>(O, Sc, Ti, Cr)</td>\n",
       "      <td>CrOScTi</td>\n",
       "    </tr>\n",
       "  </tbody>\n",
       "</table>\n",
       "</div>"
      ],
      "text/plain": [
       "                 composition  delta_e  stability_predicted         comp_obj  \\\n",
       "8249303  O0.6Ti0.2Cr0.1Mn0.1   -3.087            -0.250896  (O, Ti, Cr, Mn)   \n",
       "8320390  O0.6Sc0.1Ti0.1Cr0.2   -3.224            -0.249277  (O, Sc, Ti, Cr)   \n",
       "\n",
       "          system  \n",
       "8249303  CrMnOTi  \n",
       "8320390  CrOScTi  "
      ]
     },
     "execution_count": 32,
     "metadata": {},
     "output_type": "execute_result"
    }
   ],
   "source": [
    "possible_systems = set(quaternary_systems[quaternary_systems['elements'].apply(f)]['system'])\n",
    "results = dl_best['quaternary'][dl_best['quaternary']['system'].apply(lambda x: x in possible_systems)]\n",
    "print('Found %d matches. Top 2:'%results.size)\n",
    "results.head(2)"
   ]
  },
  {
   "cell_type": "markdown",
   "metadata": {},
   "source": [
    "#### Intermetallics"
   ]
  },
  {
   "cell_type": "code",
   "execution_count": 33,
   "metadata": {
    "collapsed": true
   },
   "outputs": [],
   "source": [
    "f = lambda els: all([e in metals for e in els])"
   ]
  },
  {
   "cell_type": "code",
   "execution_count": 34,
   "metadata": {},
   "outputs": [
    {
     "name": "stdout",
     "output_type": "stream",
     "text": [
      "Found 760 matches. Top 2:\n"
     ]
    },
    {
     "data": {
      "text/html": [
       "<div>\n",
       "<table border=\"1\" class=\"dataframe\">\n",
       "  <thead>\n",
       "    <tr style=\"text-align: right;\">\n",
       "      <th></th>\n",
       "      <th>composition</th>\n",
       "      <th>delta_e</th>\n",
       "      <th>stability_predicted</th>\n",
       "      <th>comp_obj</th>\n",
       "      <th>system</th>\n",
       "    </tr>\n",
       "  </thead>\n",
       "  <tbody>\n",
       "    <tr>\n",
       "      <th>120610</th>\n",
       "      <td>Al0.555556Hf0.111111Ir0.333333</td>\n",
       "      <td>-1.231</td>\n",
       "      <td>-0.452109</td>\n",
       "      <td>(Al, Hf, Ir)</td>\n",
       "      <td>AlHfIr</td>\n",
       "    </tr>\n",
       "    <tr>\n",
       "      <th>146028</th>\n",
       "      <td>Al0.5Y0.125Ir0.375</td>\n",
       "      <td>-1.226</td>\n",
       "      <td>-0.391448</td>\n",
       "      <td>(Al, Y, Ir)</td>\n",
       "      <td>AlIrY</td>\n",
       "    </tr>\n",
       "  </tbody>\n",
       "</table>\n",
       "</div>"
      ],
      "text/plain": [
       "                           composition  delta_e  stability_predicted  \\\n",
       "120610  Al0.555556Hf0.111111Ir0.333333   -1.231            -0.452109   \n",
       "146028              Al0.5Y0.125Ir0.375   -1.226            -0.391448   \n",
       "\n",
       "            comp_obj  system  \n",
       "120610  (Al, Hf, Ir)  AlHfIr  \n",
       "146028   (Al, Y, Ir)   AlIrY  "
      ]
     },
     "execution_count": 34,
     "metadata": {},
     "output_type": "execute_result"
    }
   ],
   "source": [
    "possible_systems = set(ternary_systems[ternary_systems['elements'].apply(f)]['system'])\n",
    "results = dl_best['ternary'][dl_best['ternary']['system'].apply(lambda x: x in possible_systems)]\n",
    "print('Found %d matches. Top 2:'%results.size)\n",
    "results.head(2)"
   ]
  },
  {
   "cell_type": "code",
   "execution_count": 35,
   "metadata": {},
   "outputs": [
    {
     "name": "stdout",
     "output_type": "stream",
     "text": [
      "Found 2310 matches. Top 2:\n"
     ]
    },
    {
     "data": {
      "text/html": [
       "<div>\n",
       "<table border=\"1\" class=\"dataframe\">\n",
       "  <thead>\n",
       "    <tr style=\"text-align: right;\">\n",
       "      <th></th>\n",
       "      <th>composition</th>\n",
       "      <th>delta_e</th>\n",
       "      <th>stability_predicted</th>\n",
       "      <th>comp_obj</th>\n",
       "      <th>system</th>\n",
       "    </tr>\n",
       "  </thead>\n",
       "  <tbody>\n",
       "    <tr>\n",
       "      <th>211</th>\n",
       "      <td>Sc0.5Ni0.1Mo0.1Sn0.3</td>\n",
       "      <td>-3.517</td>\n",
       "      <td>-2.888600</td>\n",
       "      <td>(Sc, Ni, Mo, Sn)</td>\n",
       "      <td>MoNiScSn</td>\n",
       "    </tr>\n",
       "    <tr>\n",
       "      <th>3449702</th>\n",
       "      <td>Al0.625Zr0.125Rh0.125Os0.125</td>\n",
       "      <td>-1.125</td>\n",
       "      <td>-0.435015</td>\n",
       "      <td>(Al, Zr, Rh, Os)</td>\n",
       "      <td>AlOsRhZr</td>\n",
       "    </tr>\n",
       "  </tbody>\n",
       "</table>\n",
       "</div>"
      ],
      "text/plain": [
       "                          composition  delta_e  stability_predicted  \\\n",
       "211              Sc0.5Ni0.1Mo0.1Sn0.3   -3.517            -2.888600   \n",
       "3449702  Al0.625Zr0.125Rh0.125Os0.125   -1.125            -0.435015   \n",
       "\n",
       "                 comp_obj    system  \n",
       "211      (Sc, Ni, Mo, Sn)  MoNiScSn  \n",
       "3449702  (Al, Zr, Rh, Os)  AlOsRhZr  "
      ]
     },
     "execution_count": 35,
     "metadata": {},
     "output_type": "execute_result"
    }
   ],
   "source": [
    "possible_systems = set(quaternary_systems[quaternary_systems['elements'].apply(f)]['system'])\n",
    "results = dl_best['quaternary'][dl_best['quaternary']['system'].apply(lambda x: x in possible_systems)]\n",
    "print('Found %d matches. Top 2:'%results.size)\n",
    "results.head(2)"
   ]
  },
  {
   "cell_type": "markdown",
   "metadata": {},
   "source": [
    "#### Ternary Intermetallics (No Ir/Os/Re/Sc)"
   ]
  },
  {
   "cell_type": "code",
   "execution_count": 36,
   "metadata": {
    "collapsed": true
   },
   "outputs": [],
   "source": [
    "f = lambda els: all([e in metals_no_ReOsIrSc for e in els])"
   ]
  },
  {
   "cell_type": "code",
   "execution_count": 37,
   "metadata": {},
   "outputs": [
    {
     "name": "stdout",
     "output_type": "stream",
     "text": [
      "Found 335 matches. Top 2:\n"
     ]
    },
    {
     "data": {
      "text/html": [
       "<div>\n",
       "<table border=\"1\" class=\"dataframe\">\n",
       "  <thead>\n",
       "    <tr style=\"text-align: right;\">\n",
       "      <th></th>\n",
       "      <th>composition</th>\n",
       "      <th>delta_e</th>\n",
       "      <th>stability_predicted</th>\n",
       "      <th>comp_obj</th>\n",
       "      <th>system</th>\n",
       "    </tr>\n",
       "  </thead>\n",
       "  <tbody>\n",
       "    <tr>\n",
       "      <th>166948</th>\n",
       "      <td>Al0.5Ti0.1Rh0.4</td>\n",
       "      <td>-1.318</td>\n",
       "      <td>-0.353031</td>\n",
       "      <td>(Al, Ti, Rh)</td>\n",
       "      <td>AlRhTi</td>\n",
       "    </tr>\n",
       "    <tr>\n",
       "      <th>169556</th>\n",
       "      <td>Al0.5Zr0.1Rh0.4</td>\n",
       "      <td>-1.335</td>\n",
       "      <td>-0.348634</td>\n",
       "      <td>(Al, Zr, Rh)</td>\n",
       "      <td>AlRhZr</td>\n",
       "    </tr>\n",
       "  </tbody>\n",
       "</table>\n",
       "</div>"
      ],
      "text/plain": [
       "            composition  delta_e  stability_predicted      comp_obj  system\n",
       "166948  Al0.5Ti0.1Rh0.4   -1.318            -0.353031  (Al, Ti, Rh)  AlRhTi\n",
       "169556  Al0.5Zr0.1Rh0.4   -1.335            -0.348634  (Al, Zr, Rh)  AlRhZr"
      ]
     },
     "execution_count": 37,
     "metadata": {},
     "output_type": "execute_result"
    }
   ],
   "source": [
    "possible_systems = set(ternary_systems[ternary_systems['elements'].apply(f)]['system'])\n",
    "results = dl_best['ternary'][dl_best['ternary']['system'].apply(lambda x: x in possible_systems)]\n",
    "print('Found %d matches. Top 2:'%results.size)\n",
    "results.head(2)"
   ]
  },
  {
   "cell_type": "code",
   "execution_count": 38,
   "metadata": {},
   "outputs": [
    {
     "name": "stdout",
     "output_type": "stream",
     "text": [
      "Found 765 matches. Top 2:\n"
     ]
    },
    {
     "data": {
      "text/html": [
       "<div>\n",
       "<table border=\"1\" class=\"dataframe\">\n",
       "  <thead>\n",
       "    <tr style=\"text-align: right;\">\n",
       "      <th></th>\n",
       "      <th>composition</th>\n",
       "      <th>delta_e</th>\n",
       "      <th>stability_predicted</th>\n",
       "      <th>comp_obj</th>\n",
       "      <th>system</th>\n",
       "    </tr>\n",
       "  </thead>\n",
       "  <tbody>\n",
       "    <tr>\n",
       "      <th>6042185</th>\n",
       "      <td>Al0.4Mn0.1Zr0.1Pt0.4</td>\n",
       "      <td>-1.255</td>\n",
       "      <td>-0.311566</td>\n",
       "      <td>(Al, Mn, Zr, Pt)</td>\n",
       "      <td>AlMnPtZr</td>\n",
       "    </tr>\n",
       "    <tr>\n",
       "      <th>6565275</th>\n",
       "      <td>Al0.4Ga0.1Hf0.1Pt0.4</td>\n",
       "      <td>-1.262</td>\n",
       "      <td>-0.294909</td>\n",
       "      <td>(Al, Ga, Hf, Pt)</td>\n",
       "      <td>AlGaHfPt</td>\n",
       "    </tr>\n",
       "  </tbody>\n",
       "</table>\n",
       "</div>"
      ],
      "text/plain": [
       "                  composition  delta_e  stability_predicted          comp_obj  \\\n",
       "6042185  Al0.4Mn0.1Zr0.1Pt0.4   -1.255            -0.311566  (Al, Mn, Zr, Pt)   \n",
       "6565275  Al0.4Ga0.1Hf0.1Pt0.4   -1.262            -0.294909  (Al, Ga, Hf, Pt)   \n",
       "\n",
       "           system  \n",
       "6042185  AlMnPtZr  \n",
       "6565275  AlGaHfPt  "
      ]
     },
     "execution_count": 38,
     "metadata": {},
     "output_type": "execute_result"
    }
   ],
   "source": [
    "possible_systems = set(quaternary_systems[quaternary_systems['elements'].apply(f)]['system'])\n",
    "results = dl_best['quaternary'][dl_best['quaternary']['system'].apply(lambda x: x in possible_systems)]\n",
    "print('Found %d matches. Top 2:'%results.size)\n",
    "results.head(2)"
   ]
  },
  {
   "cell_type": "markdown",
   "metadata": {},
   "source": [
    "#### Ternary Intermetallics w/ at least 1 $3d$ metals"
   ]
  },
  {
   "cell_type": "code",
   "execution_count": 39,
   "metadata": {},
   "outputs": [],
   "source": [
    "f =lambda els: all([e in metals_no_ReOsIrSc for e in els]) and sum([e in threed_tms for e in els]) > 1"
   ]
  },
  {
   "cell_type": "code",
   "execution_count": 40,
   "metadata": {},
   "outputs": [
    {
     "name": "stdout",
     "output_type": "stream",
     "text": [
      "Found 10 matches. Top 2:\n"
     ]
    },
    {
     "data": {
      "text/html": [
       "<div>\n",
       "<table border=\"1\" class=\"dataframe\">\n",
       "  <thead>\n",
       "    <tr style=\"text-align: right;\">\n",
       "      <th></th>\n",
       "      <th>composition</th>\n",
       "      <th>delta_e</th>\n",
       "      <th>stability_predicted</th>\n",
       "      <th>comp_obj</th>\n",
       "      <th>system</th>\n",
       "    </tr>\n",
       "  </thead>\n",
       "  <tbody>\n",
       "    <tr>\n",
       "      <th>256303</th>\n",
       "      <td>Ti0.222222Ni0.444444In0.333333</td>\n",
       "      <td>-0.589</td>\n",
       "      <td>-0.246996</td>\n",
       "      <td>(Ti, Ni, In)</td>\n",
       "      <td>InNiTi</td>\n",
       "    </tr>\n",
       "    <tr>\n",
       "      <th>317887</th>\n",
       "      <td>V0.25Mn0.625Ga0.125</td>\n",
       "      <td>-0.387</td>\n",
       "      <td>-0.203642</td>\n",
       "      <td>(V, Mn, Ga)</td>\n",
       "      <td>GaMnV</td>\n",
       "    </tr>\n",
       "  </tbody>\n",
       "</table>\n",
       "</div>"
      ],
      "text/plain": [
       "                           composition  delta_e  stability_predicted  \\\n",
       "256303  Ti0.222222Ni0.444444In0.333333   -0.589            -0.246996   \n",
       "317887             V0.25Mn0.625Ga0.125   -0.387            -0.203642   \n",
       "\n",
       "            comp_obj  system  \n",
       "256303  (Ti, Ni, In)  InNiTi  \n",
       "317887   (V, Mn, Ga)   GaMnV  "
      ]
     },
     "execution_count": 40,
     "metadata": {},
     "output_type": "execute_result"
    }
   ],
   "source": [
    "possible_systems = set(ternary_systems[ternary_systems['elements'].apply(f)]['system'])\n",
    "results = dl_best['ternary'][dl_best['ternary']['system'].apply(lambda x: x in possible_systems)]\n",
    "print('Found %d matches. Top 2:'%results.size)\n",
    "results.head(2)"
   ]
  },
  {
   "cell_type": "code",
   "execution_count": 41,
   "metadata": {},
   "outputs": [
    {
     "name": "stdout",
     "output_type": "stream",
     "text": [
      "Found 105 matches. Top 2:\n"
     ]
    },
    {
     "data": {
      "text/html": [
       "<div>\n",
       "<table border=\"1\" class=\"dataframe\">\n",
       "  <thead>\n",
       "    <tr style=\"text-align: right;\">\n",
       "      <th></th>\n",
       "      <th>composition</th>\n",
       "      <th>delta_e</th>\n",
       "      <th>stability_predicted</th>\n",
       "      <th>comp_obj</th>\n",
       "      <th>system</th>\n",
       "    </tr>\n",
       "  </thead>\n",
       "  <tbody>\n",
       "    <tr>\n",
       "      <th>6832845</th>\n",
       "      <td>Al0.5Ti0.1Ni0.1Rh0.3</td>\n",
       "      <td>-1.172</td>\n",
       "      <td>-0.287016</td>\n",
       "      <td>(Al, Ti, Ni, Rh)</td>\n",
       "      <td>AlNiRhTi</td>\n",
       "    </tr>\n",
       "    <tr>\n",
       "      <th>7217165</th>\n",
       "      <td>Al0.6Cr0.1Co0.1Rh0.2</td>\n",
       "      <td>-0.928</td>\n",
       "      <td>-0.276352</td>\n",
       "      <td>(Al, Cr, Co, Rh)</td>\n",
       "      <td>AlCoCrRh</td>\n",
       "    </tr>\n",
       "  </tbody>\n",
       "</table>\n",
       "</div>"
      ],
      "text/plain": [
       "                  composition  delta_e  stability_predicted          comp_obj  \\\n",
       "6832845  Al0.5Ti0.1Ni0.1Rh0.3   -1.172            -0.287016  (Al, Ti, Ni, Rh)   \n",
       "7217165  Al0.6Cr0.1Co0.1Rh0.2   -0.928            -0.276352  (Al, Cr, Co, Rh)   \n",
       "\n",
       "           system  \n",
       "6832845  AlNiRhTi  \n",
       "7217165  AlCoCrRh  "
      ]
     },
     "execution_count": 41,
     "metadata": {},
     "output_type": "execute_result"
    }
   ],
   "source": [
    "possible_systems = set(quaternary_systems[quaternary_systems['elements'].apply(f)]['system'])\n",
    "results = dl_best['quaternary'][dl_best['quaternary']['system'].apply(lambda x: x in possible_systems)]\n",
    "print('Found %d matches. Top 2:'%results.size)\n",
    "results.head(2)"
   ]
  }
 ],
 "metadata": {
  "kernelspec": {
   "display_name": "Python 3",
   "language": "python",
   "name": "python3"
  },
  "language_info": {
   "codemirror_mode": {
    "name": "ipython",
    "version": 3
   },
   "file_extension": ".py",
   "mimetype": "text/x-python",
   "name": "python",
   "nbconvert_exporter": "python",
   "pygments_lexer": "ipython3",
   "version": "3.6.0"
  }
 },
 "nbformat": 4,
 "nbformat_minor": 2
}
